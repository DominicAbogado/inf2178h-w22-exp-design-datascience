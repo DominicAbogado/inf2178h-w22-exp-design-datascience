{
 "cells": [
  {
   "cell_type": "markdown",
   "id": "030dd71d-c305-4d6f-bc62-d99333955eeb",
   "metadata": {},
   "source": [
    "# Exploratory Data Analysis for Diabetes Dataset"
   ]
  },
  {
   "cell_type": "code",
   "execution_count": 382,
   "id": "0fb4656f-af40-4d11-b141-c7dfddbc3a49",
   "metadata": {},
   "outputs": [],
   "source": [
    "#!pip install libraries\n",
    "#!pip install seaborn\n",
    "#!pip install bioinfokit\n",
    "#!pip install statsmodels\n",
    "#!pip install scikit_posthocs\n",
    "#!pip install pingouin"
   ]
  },
  {
   "cell_type": "code",
   "execution_count": 383,
   "id": "24daa68a-6129-4d79-81eb-3f9fec7ab6be",
   "metadata": {},
   "outputs": [],
   "source": [
    "#Libraries \n",
    "import pandas as pd \n",
    "import numpy as np \n",
    "import matplotlib.pyplot as plt\n",
    "import seaborn as sns\n",
    "import pingouin as pg\n",
    "\n",
    "import statsmodels.api as sm\n",
    "from statsmodels.formula.api import ols\n",
    "from statsmodels.graphics.factorplots import interaction_plot\n",
    "\n",
    "from sklearn.linear_model import LinearRegression\n",
    "\n",
    "import statsmodels.api as sa\n",
    "import statsmodels.formula.api as sfa\n",
    "import scikit_posthocs as sp\n",
    "\n",
    "import scipy\n",
    "from scipy import stats\n",
    "\n",
    "from bioinfokit.analys import stat\n"
   ]
  },
  {
   "cell_type": "markdown",
   "id": "ce2668be-3e85-47b3-8c81-28bf766b0713",
   "metadata": {},
   "source": [
    "# Getting to Know Dataset\n",
    "\n",
    "Importing and checking columns, rows, datatype, and dimension."
   ]
  },
  {
   "cell_type": "code",
   "execution_count": 384,
   "id": "43067481-e850-4ebe-89e7-6bca435cb591",
   "metadata": {},
   "outputs": [
    {
     "data": {
      "text/html": [
       "<div>\n",
       "<style scoped>\n",
       "    .dataframe tbody tr th:only-of-type {\n",
       "        vertical-align: middle;\n",
       "    }\n",
       "\n",
       "    .dataframe tbody tr th {\n",
       "        vertical-align: top;\n",
       "    }\n",
       "\n",
       "    .dataframe thead th {\n",
       "        text-align: right;\n",
       "    }\n",
       "</style>\n",
       "<table border=\"1\" class=\"dataframe\">\n",
       "  <thead>\n",
       "    <tr style=\"text-align: right;\">\n",
       "      <th></th>\n",
       "      <th>Pregnancies</th>\n",
       "      <th>Glucose</th>\n",
       "      <th>BloodPressure</th>\n",
       "      <th>SkinThickness</th>\n",
       "      <th>Insulin</th>\n",
       "      <th>BMI</th>\n",
       "      <th>DiabetesPedigreeFunction</th>\n",
       "      <th>Age</th>\n",
       "      <th>Outcome</th>\n",
       "    </tr>\n",
       "  </thead>\n",
       "  <tbody>\n",
       "    <tr>\n",
       "      <th>0</th>\n",
       "      <td>6</td>\n",
       "      <td>148</td>\n",
       "      <td>72</td>\n",
       "      <td>35</td>\n",
       "      <td>0</td>\n",
       "      <td>33.6</td>\n",
       "      <td>0.627</td>\n",
       "      <td>50</td>\n",
       "      <td>1</td>\n",
       "    </tr>\n",
       "    <tr>\n",
       "      <th>1</th>\n",
       "      <td>1</td>\n",
       "      <td>85</td>\n",
       "      <td>66</td>\n",
       "      <td>29</td>\n",
       "      <td>0</td>\n",
       "      <td>26.6</td>\n",
       "      <td>0.351</td>\n",
       "      <td>31</td>\n",
       "      <td>0</td>\n",
       "    </tr>\n",
       "    <tr>\n",
       "      <th>2</th>\n",
       "      <td>8</td>\n",
       "      <td>183</td>\n",
       "      <td>64</td>\n",
       "      <td>0</td>\n",
       "      <td>0</td>\n",
       "      <td>23.3</td>\n",
       "      <td>0.672</td>\n",
       "      <td>32</td>\n",
       "      <td>1</td>\n",
       "    </tr>\n",
       "    <tr>\n",
       "      <th>3</th>\n",
       "      <td>1</td>\n",
       "      <td>89</td>\n",
       "      <td>66</td>\n",
       "      <td>23</td>\n",
       "      <td>94</td>\n",
       "      <td>28.1</td>\n",
       "      <td>0.167</td>\n",
       "      <td>21</td>\n",
       "      <td>0</td>\n",
       "    </tr>\n",
       "    <tr>\n",
       "      <th>4</th>\n",
       "      <td>0</td>\n",
       "      <td>137</td>\n",
       "      <td>40</td>\n",
       "      <td>35</td>\n",
       "      <td>168</td>\n",
       "      <td>43.1</td>\n",
       "      <td>2.288</td>\n",
       "      <td>33</td>\n",
       "      <td>1</td>\n",
       "    </tr>\n",
       "  </tbody>\n",
       "</table>\n",
       "</div>"
      ],
      "text/plain": [
       "   Pregnancies  Glucose  BloodPressure  SkinThickness  Insulin   BMI  \\\n",
       "0            6      148             72             35        0  33.6   \n",
       "1            1       85             66             29        0  26.6   \n",
       "2            8      183             64              0        0  23.3   \n",
       "3            1       89             66             23       94  28.1   \n",
       "4            0      137             40             35      168  43.1   \n",
       "\n",
       "   DiabetesPedigreeFunction  Age  Outcome  \n",
       "0                     0.627   50        1  \n",
       "1                     0.351   31        0  \n",
       "2                     0.672   32        1  \n",
       "3                     0.167   21        0  \n",
       "4                     2.288   33        1  "
      ]
     },
     "execution_count": 384,
     "metadata": {},
     "output_type": "execute_result"
    }
   ],
   "source": [
    "#Import csv file as pandas dataframe\n",
    "diabetes = pd.read_csv('diabetes.csv')\n",
    "diabetes.head()"
   ]
  },
  {
   "cell_type": "code",
   "execution_count": 385,
   "id": "41dda5ad-7c6d-499c-ba3c-575dc6306280",
   "metadata": {},
   "outputs": [
    {
     "data": {
      "text/html": [
       "<div>\n",
       "<style scoped>\n",
       "    .dataframe tbody tr th:only-of-type {\n",
       "        vertical-align: middle;\n",
       "    }\n",
       "\n",
       "    .dataframe tbody tr th {\n",
       "        vertical-align: top;\n",
       "    }\n",
       "\n",
       "    .dataframe thead th {\n",
       "        text-align: right;\n",
       "    }\n",
       "</style>\n",
       "<table border=\"1\" class=\"dataframe\">\n",
       "  <thead>\n",
       "    <tr style=\"text-align: right;\">\n",
       "      <th></th>\n",
       "      <th>Pregnancies</th>\n",
       "      <th>Glucose</th>\n",
       "      <th>BloodPressure</th>\n",
       "      <th>SkinThickness</th>\n",
       "      <th>Insulin</th>\n",
       "      <th>BMI</th>\n",
       "      <th>DiabetesPedigreeFunction</th>\n",
       "      <th>Age</th>\n",
       "      <th>Outcome</th>\n",
       "    </tr>\n",
       "  </thead>\n",
       "  <tbody>\n",
       "    <tr>\n",
       "      <th>count</th>\n",
       "      <td>768.000000</td>\n",
       "      <td>768.000000</td>\n",
       "      <td>768.000000</td>\n",
       "      <td>768.000000</td>\n",
       "      <td>768.000000</td>\n",
       "      <td>768.000000</td>\n",
       "      <td>768.000000</td>\n",
       "      <td>768.000000</td>\n",
       "      <td>768.000000</td>\n",
       "    </tr>\n",
       "    <tr>\n",
       "      <th>mean</th>\n",
       "      <td>3.845052</td>\n",
       "      <td>120.894531</td>\n",
       "      <td>69.105469</td>\n",
       "      <td>20.536458</td>\n",
       "      <td>79.799479</td>\n",
       "      <td>31.992578</td>\n",
       "      <td>0.471876</td>\n",
       "      <td>33.240885</td>\n",
       "      <td>0.348958</td>\n",
       "    </tr>\n",
       "    <tr>\n",
       "      <th>std</th>\n",
       "      <td>3.369578</td>\n",
       "      <td>31.972618</td>\n",
       "      <td>19.355807</td>\n",
       "      <td>15.952218</td>\n",
       "      <td>115.244002</td>\n",
       "      <td>7.884160</td>\n",
       "      <td>0.331329</td>\n",
       "      <td>11.760232</td>\n",
       "      <td>0.476951</td>\n",
       "    </tr>\n",
       "    <tr>\n",
       "      <th>min</th>\n",
       "      <td>0.000000</td>\n",
       "      <td>0.000000</td>\n",
       "      <td>0.000000</td>\n",
       "      <td>0.000000</td>\n",
       "      <td>0.000000</td>\n",
       "      <td>0.000000</td>\n",
       "      <td>0.078000</td>\n",
       "      <td>21.000000</td>\n",
       "      <td>0.000000</td>\n",
       "    </tr>\n",
       "    <tr>\n",
       "      <th>25%</th>\n",
       "      <td>1.000000</td>\n",
       "      <td>99.000000</td>\n",
       "      <td>62.000000</td>\n",
       "      <td>0.000000</td>\n",
       "      <td>0.000000</td>\n",
       "      <td>27.300000</td>\n",
       "      <td>0.243750</td>\n",
       "      <td>24.000000</td>\n",
       "      <td>0.000000</td>\n",
       "    </tr>\n",
       "    <tr>\n",
       "      <th>50%</th>\n",
       "      <td>3.000000</td>\n",
       "      <td>117.000000</td>\n",
       "      <td>72.000000</td>\n",
       "      <td>23.000000</td>\n",
       "      <td>30.500000</td>\n",
       "      <td>32.000000</td>\n",
       "      <td>0.372500</td>\n",
       "      <td>29.000000</td>\n",
       "      <td>0.000000</td>\n",
       "    </tr>\n",
       "    <tr>\n",
       "      <th>75%</th>\n",
       "      <td>6.000000</td>\n",
       "      <td>140.250000</td>\n",
       "      <td>80.000000</td>\n",
       "      <td>32.000000</td>\n",
       "      <td>127.250000</td>\n",
       "      <td>36.600000</td>\n",
       "      <td>0.626250</td>\n",
       "      <td>41.000000</td>\n",
       "      <td>1.000000</td>\n",
       "    </tr>\n",
       "    <tr>\n",
       "      <th>max</th>\n",
       "      <td>17.000000</td>\n",
       "      <td>199.000000</td>\n",
       "      <td>122.000000</td>\n",
       "      <td>99.000000</td>\n",
       "      <td>846.000000</td>\n",
       "      <td>67.100000</td>\n",
       "      <td>2.420000</td>\n",
       "      <td>81.000000</td>\n",
       "      <td>1.000000</td>\n",
       "    </tr>\n",
       "  </tbody>\n",
       "</table>\n",
       "</div>"
      ],
      "text/plain": [
       "       Pregnancies     Glucose  BloodPressure  SkinThickness     Insulin  \\\n",
       "count   768.000000  768.000000     768.000000     768.000000  768.000000   \n",
       "mean      3.845052  120.894531      69.105469      20.536458   79.799479   \n",
       "std       3.369578   31.972618      19.355807      15.952218  115.244002   \n",
       "min       0.000000    0.000000       0.000000       0.000000    0.000000   \n",
       "25%       1.000000   99.000000      62.000000       0.000000    0.000000   \n",
       "50%       3.000000  117.000000      72.000000      23.000000   30.500000   \n",
       "75%       6.000000  140.250000      80.000000      32.000000  127.250000   \n",
       "max      17.000000  199.000000     122.000000      99.000000  846.000000   \n",
       "\n",
       "              BMI  DiabetesPedigreeFunction         Age     Outcome  \n",
       "count  768.000000                768.000000  768.000000  768.000000  \n",
       "mean    31.992578                  0.471876   33.240885    0.348958  \n",
       "std      7.884160                  0.331329   11.760232    0.476951  \n",
       "min      0.000000                  0.078000   21.000000    0.000000  \n",
       "25%     27.300000                  0.243750   24.000000    0.000000  \n",
       "50%     32.000000                  0.372500   29.000000    0.000000  \n",
       "75%     36.600000                  0.626250   41.000000    1.000000  \n",
       "max     67.100000                  2.420000   81.000000    1.000000  "
      ]
     },
     "execution_count": 385,
     "metadata": {},
     "output_type": "execute_result"
    }
   ],
   "source": [
    "#Exploring data characteristics\n",
    "diabetes.describe()"
   ]
  },
  {
   "cell_type": "code",
   "execution_count": 386,
   "id": "b296a29b-c1cf-49f8-b41a-7457f0c165cf",
   "metadata": {},
   "outputs": [
    {
     "name": "stdout",
     "output_type": "stream",
     "text": [
      "Pregnancies\n",
      "Glucose\n",
      "BloodPressure\n",
      "SkinThickness\n",
      "Insulin\n",
      "BMI\n",
      "DiabetesPedigreeFunction\n",
      "Age\n",
      "Outcome\n"
     ]
    }
   ],
   "source": [
    "for col in diabetes.columns: \n",
    "    print(col) "
   ]
  },
  {
   "cell_type": "code",
   "execution_count": 387,
   "id": "53415d94-461a-4d86-8d60-2ed17c74ce25",
   "metadata": {},
   "outputs": [
    {
     "data": {
      "text/plain": [
       "Pregnancies                   int64\n",
       "Glucose                       int64\n",
       "BloodPressure                 int64\n",
       "SkinThickness                 int64\n",
       "Insulin                       int64\n",
       "BMI                         float64\n",
       "DiabetesPedigreeFunction    float64\n",
       "Age                           int64\n",
       "Outcome                       int64\n",
       "dtype: object"
      ]
     },
     "execution_count": 387,
     "metadata": {},
     "output_type": "execute_result"
    }
   ],
   "source": [
    "#Checking data types in dataframe\n",
    "col_types = diabetes.dtypes\n",
    "col_types"
   ]
  },
  {
   "cell_type": "code",
   "execution_count": 388,
   "id": "e0dfbf91-cbdd-4787-9e80-bd89d3b8b57f",
   "metadata": {},
   "outputs": [
    {
     "data": {
      "text/plain": [
       "(768, 9)"
      ]
     },
     "execution_count": 388,
     "metadata": {},
     "output_type": "execute_result"
    }
   ],
   "source": [
    "#Checking dimensions of the dataframe\n",
    "dims = diabetes.shape\n",
    "dims"
   ]
  },
  {
   "cell_type": "code",
   "execution_count": 389,
   "id": "1cbc81ee-c944-4f74-af16-bd5a0f1849ab",
   "metadata": {},
   "outputs": [
    {
     "data": {
      "text/plain": [
       "1     135\n",
       "0     111\n",
       "2     103\n",
       "3      75\n",
       "4      68\n",
       "5      57\n",
       "6      50\n",
       "7      45\n",
       "8      38\n",
       "9      28\n",
       "10     24\n",
       "11     11\n",
       "13     10\n",
       "12      9\n",
       "14      2\n",
       "15      1\n",
       "17      1\n",
       "Name: Pregnancies, dtype: int64"
      ]
     },
     "execution_count": 389,
     "metadata": {},
     "output_type": "execute_result"
    }
   ],
   "source": [
    "#Unique value counts for Pregnancy\n",
    "Preg_freqs = diabetes['Pregnancies'].value_counts()\n",
    "Preg_freqs"
   ]
  },
  {
   "cell_type": "code",
   "execution_count": 390,
   "id": "3e06dd24-752a-4354-a5ea-a661383a03bd",
   "metadata": {},
   "outputs": [
    {
     "data": {
      "text/plain": [
       "99     17\n",
       "100    17\n",
       "111    14\n",
       "129    14\n",
       "125    14\n",
       "       ..\n",
       "191     1\n",
       "177     1\n",
       "44      1\n",
       "62      1\n",
       "190     1\n",
       "Name: Glucose, Length: 136, dtype: int64"
      ]
     },
     "execution_count": 390,
     "metadata": {},
     "output_type": "execute_result"
    }
   ],
   "source": [
    "#Unique value counts for Glucose\n",
    "Glu_freqs = diabetes['Glucose'].value_counts()\n",
    "Glu_freqs"
   ]
  },
  {
   "cell_type": "code",
   "execution_count": 391,
   "id": "efcac393-6768-4690-9cd1-7d2f2de0dffc",
   "metadata": {},
   "outputs": [
    {
     "data": {
      "text/plain": [
       "70     57\n",
       "74     52\n",
       "78     45\n",
       "68     45\n",
       "72     44\n",
       "64     43\n",
       "80     40\n",
       "76     39\n",
       "60     37\n",
       "0      35\n",
       "62     34\n",
       "66     30\n",
       "82     30\n",
       "88     25\n",
       "84     23\n",
       "90     22\n",
       "86     21\n",
       "58     21\n",
       "50     13\n",
       "56     12\n",
       "52     11\n",
       "54     11\n",
       "75      8\n",
       "92      8\n",
       "65      7\n",
       "85      6\n",
       "94      6\n",
       "48      5\n",
       "96      4\n",
       "44      4\n",
       "100     3\n",
       "106     3\n",
       "98      3\n",
       "110     3\n",
       "55      2\n",
       "108     2\n",
       "104     2\n",
       "46      2\n",
       "30      2\n",
       "122     1\n",
       "95      1\n",
       "102     1\n",
       "61      1\n",
       "24      1\n",
       "38      1\n",
       "40      1\n",
       "114     1\n",
       "Name: BloodPressure, dtype: int64"
      ]
     },
     "execution_count": 391,
     "metadata": {},
     "output_type": "execute_result"
    }
   ],
   "source": [
    "#Unique value counts for BloodPressure\n",
    "Blood_freqs = diabetes['BloodPressure'].value_counts()\n",
    "Blood_freqs"
   ]
  },
  {
   "cell_type": "code",
   "execution_count": 392,
   "id": "819db3d8-306d-402a-95fb-95f40b35d5d8",
   "metadata": {},
   "outputs": [
    {
     "data": {
      "text/plain": [
       "0     227\n",
       "32     31\n",
       "30     27\n",
       "27     23\n",
       "23     22\n",
       "33     20\n",
       "28     20\n",
       "18     20\n",
       "31     19\n",
       "19     18\n",
       "39     18\n",
       "29     17\n",
       "40     16\n",
       "25     16\n",
       "26     16\n",
       "22     16\n",
       "37     16\n",
       "41     15\n",
       "35     15\n",
       "36     14\n",
       "15     14\n",
       "17     14\n",
       "20     13\n",
       "24     12\n",
       "42     11\n",
       "13     11\n",
       "21     10\n",
       "46      8\n",
       "34      8\n",
       "12      7\n",
       "38      7\n",
       "11      6\n",
       "43      6\n",
       "16      6\n",
       "45      6\n",
       "14      6\n",
       "44      5\n",
       "10      5\n",
       "48      4\n",
       "47      4\n",
       "49      3\n",
       "50      3\n",
       "8       2\n",
       "7       2\n",
       "52      2\n",
       "54      2\n",
       "63      1\n",
       "60      1\n",
       "56      1\n",
       "51      1\n",
       "99      1\n",
       "Name: SkinThickness, dtype: int64"
      ]
     },
     "execution_count": 392,
     "metadata": {},
     "output_type": "execute_result"
    }
   ],
   "source": [
    "#Unique value counts for SkinThickness\n",
    "Skin_freqs = diabetes['SkinThickness'].value_counts()\n",
    "Skin_freqs"
   ]
  },
  {
   "cell_type": "code",
   "execution_count": 393,
   "id": "c5f27f0d-227d-4b63-8b82-1fe4584fb5b9",
   "metadata": {},
   "outputs": [
    {
     "data": {
      "text/plain": [
       "0      374\n",
       "105     11\n",
       "130      9\n",
       "140      9\n",
       "120      8\n",
       "      ... \n",
       "73       1\n",
       "171      1\n",
       "255      1\n",
       "52       1\n",
       "112      1\n",
       "Name: Insulin, Length: 186, dtype: int64"
      ]
     },
     "execution_count": 393,
     "metadata": {},
     "output_type": "execute_result"
    }
   ],
   "source": [
    "#Unique value counts for Insulin\n",
    "Ins_freqs = diabetes['Insulin'].value_counts()\n",
    "Ins_freqs"
   ]
  },
  {
   "cell_type": "code",
   "execution_count": 394,
   "id": "02148310-2dbe-473d-9ad5-9e9ebd54a3d2",
   "metadata": {},
   "outputs": [
    {
     "data": {
      "text/plain": [
       "32.0    13\n",
       "31.6    12\n",
       "31.2    12\n",
       "0.0     11\n",
       "32.4    10\n",
       "        ..\n",
       "36.7     1\n",
       "41.8     1\n",
       "42.6     1\n",
       "42.8     1\n",
       "46.3     1\n",
       "Name: BMI, Length: 248, dtype: int64"
      ]
     },
     "execution_count": 394,
     "metadata": {},
     "output_type": "execute_result"
    }
   ],
   "source": [
    "#Unique value counts for BMI\n",
    "BMI_freqs = diabetes['BMI'].value_counts()\n",
    "BMI_freqs"
   ]
  },
  {
   "cell_type": "code",
   "execution_count": 395,
   "id": "1672acd2-da5d-4799-b010-d57b2b755971",
   "metadata": {},
   "outputs": [
    {
     "data": {
      "text/plain": [
       "0.258    6\n",
       "0.254    6\n",
       "0.268    5\n",
       "0.207    5\n",
       "0.261    5\n",
       "        ..\n",
       "1.353    1\n",
       "0.655    1\n",
       "0.092    1\n",
       "0.926    1\n",
       "0.171    1\n",
       "Name: DiabetesPedigreeFunction, Length: 517, dtype: int64"
      ]
     },
     "execution_count": 395,
     "metadata": {},
     "output_type": "execute_result"
    }
   ],
   "source": [
    "#Unique value counts for DiabetesPedigreeFunction\n",
    "Dia_freqs = diabetes['DiabetesPedigreeFunction'].value_counts()\n",
    "Dia_freqs"
   ]
  },
  {
   "cell_type": "code",
   "execution_count": 396,
   "id": "48cacdd5-e227-40e4-a8bc-c6d1bb6d8048",
   "metadata": {},
   "outputs": [
    {
     "data": {
      "text/plain": [
       "0    500\n",
       "1    268\n",
       "Name: Outcome, dtype: int64"
      ]
     },
     "execution_count": 396,
     "metadata": {},
     "output_type": "execute_result"
    }
   ],
   "source": [
    "#Unique value counts for Outcome\n",
    "Outcome_freqs = diabetes['Outcome'].value_counts()\n",
    "Outcome_freqs"
   ]
  },
  {
   "cell_type": "markdown",
   "id": "a7d207cf-df03-4b87-a503-4a1305c4733c",
   "metadata": {},
   "source": [
    "# Data Cleaning\n",
    "\n",
    "Cleaning Diabetes dataset using tidy data principles."
   ]
  },
  {
   "cell_type": "code",
   "execution_count": 397,
   "id": "2f94c860-edac-45bc-8f9f-1696d35727cc",
   "metadata": {},
   "outputs": [],
   "source": [
    "#Dropping Outcome column\n",
    "#y_variables = diabetes.Outcome.values\n",
    "#to_drop = ['Outcome']\n",
    "#x_variables = diabetes.drop(columns=to_drop, inplace=True)\n",
    "#diabetes.head()"
   ]
  },
  {
   "cell_type": "code",
   "execution_count": 398,
   "id": "0a3d73c8-a260-4846-9c50-e0ac4a4b1c60",
   "metadata": {},
   "outputs": [],
   "source": [
    "#Updating zero values of Glucose using Boolean filtering \n",
    "diabetes.loc[diabetes['Glucose'] == 0, \"Glucose\"] = np.nan\n",
    "Glucose_after = diabetes[\"Glucose\"].value_counts(dropna=False).head()"
   ]
  },
  {
   "cell_type": "code",
   "execution_count": 399,
   "id": "21b26a12-daee-4b56-82bc-14f6defee92a",
   "metadata": {},
   "outputs": [
    {
     "data": {
      "text/plain": [
       "Pregnancies                  1.00\n",
       "Glucose                       NaN\n",
       "BloodPressure               48.00\n",
       "SkinThickness               20.00\n",
       "Insulin                      0.00\n",
       "BMI                         24.70\n",
       "DiabetesPedigreeFunction     0.14\n",
       "Age                         22.00\n",
       "Outcome                      0.00\n",
       "Name: 75, dtype: float64"
      ]
     },
     "execution_count": 399,
     "metadata": {},
     "output_type": "execute_result"
    }
   ],
   "source": [
    "#Checking data through index to make sure 0 is replaced\n",
    "diabetes.loc[75] "
   ]
  },
  {
   "cell_type": "code",
   "execution_count": 400,
   "id": "1d19cc56-5976-4435-8a8b-2c2e6e93efee",
   "metadata": {},
   "outputs": [],
   "source": [
    "#Updating zero values of BloodPressure using Boolean filtering \n",
    "diabetes.loc[diabetes['BloodPressure'] == 0, \"BloodPressure\"] = np.nan\n",
    "Blood_after = diabetes[\"BloodPressure\"].value_counts(dropna=False).head()"
   ]
  },
  {
   "cell_type": "code",
   "execution_count": 401,
   "id": "b87551d2-d5c8-4141-95cd-0ac8dd298bb7",
   "metadata": {},
   "outputs": [],
   "source": [
    "#Updating zero values of SkinThickness using Boolean filtering \n",
    "diabetes.loc[diabetes['SkinThickness'] == 0, \"SkinThickness\"] = np.nan\n",
    "Skin_after = diabetes[\"SkinThickness\"].value_counts(dropna=False).head()"
   ]
  },
  {
   "cell_type": "code",
   "execution_count": 402,
   "id": "6f84bdbb-69d3-4b3e-a061-f5b67ecfdb60",
   "metadata": {},
   "outputs": [],
   "source": [
    "#Updating zero values of Insulin using Boolean filtering \n",
    "diabetes.loc[diabetes['Insulin'] == 0, \"Insulin\"] = np.nan\n",
    "Insulin_after = diabetes[\"Insulin\"].value_counts(dropna=False).head()"
   ]
  },
  {
   "cell_type": "code",
   "execution_count": 403,
   "id": "228a633b-36bf-490c-8546-4e87e8047ca7",
   "metadata": {},
   "outputs": [],
   "source": [
    "#Updating zero values of BMI using Boolean filtering \n",
    "diabetes.loc[diabetes['BMI'] == 0, \"BMI\"] = np.nan\n",
    "BMI_after = diabetes[\"BMI\"].value_counts(dropna=False).head()"
   ]
  },
  {
   "cell_type": "code",
   "execution_count": 404,
   "id": "0a7b90c3-7614-4854-8614-9b290e2fb8c9",
   "metadata": {},
   "outputs": [
    {
     "data": {
      "text/plain": [
       "Pregnancies                  2.000\n",
       "Glucose                     84.000\n",
       "BloodPressure                  NaN\n",
       "SkinThickness                  NaN\n",
       "Insulin                        NaN\n",
       "BMI                            NaN\n",
       "DiabetesPedigreeFunction     0.304\n",
       "Age                         21.000\n",
       "Outcome                      0.000\n",
       "Name: 60, dtype: float64"
      ]
     },
     "execution_count": 404,
     "metadata": {},
     "output_type": "execute_result"
    }
   ],
   "source": [
    "#Checking data through index to make sure 0 is replaced\n",
    "diabetes.loc[60] "
   ]
  },
  {
   "cell_type": "code",
   "execution_count": 405,
   "id": "dcf3bc12-ab89-413d-8298-17028050fcda",
   "metadata": {},
   "outputs": [
    {
     "data": {
      "text/html": [
       "<div>\n",
       "<style scoped>\n",
       "    .dataframe tbody tr th:only-of-type {\n",
       "        vertical-align: middle;\n",
       "    }\n",
       "\n",
       "    .dataframe tbody tr th {\n",
       "        vertical-align: top;\n",
       "    }\n",
       "\n",
       "    .dataframe thead th {\n",
       "        text-align: right;\n",
       "    }\n",
       "</style>\n",
       "<table border=\"1\" class=\"dataframe\">\n",
       "  <thead>\n",
       "    <tr style=\"text-align: right;\">\n",
       "      <th></th>\n",
       "      <th>Pregnancies</th>\n",
       "      <th>Glucose</th>\n",
       "      <th>BloodPressure</th>\n",
       "      <th>SkinThickness</th>\n",
       "      <th>Insulin</th>\n",
       "      <th>BMI</th>\n",
       "      <th>DiabetesPedigreeFunction</th>\n",
       "      <th>Age</th>\n",
       "      <th>Outcome</th>\n",
       "    </tr>\n",
       "  </thead>\n",
       "  <tbody>\n",
       "    <tr>\n",
       "      <th>0</th>\n",
       "      <td>6</td>\n",
       "      <td>148.0</td>\n",
       "      <td>72.0</td>\n",
       "      <td>35.0</td>\n",
       "      <td>NaN</td>\n",
       "      <td>33.6</td>\n",
       "      <td>0.627</td>\n",
       "      <td>50</td>\n",
       "      <td>1</td>\n",
       "    </tr>\n",
       "    <tr>\n",
       "      <th>1</th>\n",
       "      <td>1</td>\n",
       "      <td>85.0</td>\n",
       "      <td>66.0</td>\n",
       "      <td>29.0</td>\n",
       "      <td>NaN</td>\n",
       "      <td>26.6</td>\n",
       "      <td>0.351</td>\n",
       "      <td>31</td>\n",
       "      <td>0</td>\n",
       "    </tr>\n",
       "    <tr>\n",
       "      <th>2</th>\n",
       "      <td>8</td>\n",
       "      <td>183.0</td>\n",
       "      <td>64.0</td>\n",
       "      <td>NaN</td>\n",
       "      <td>NaN</td>\n",
       "      <td>23.3</td>\n",
       "      <td>0.672</td>\n",
       "      <td>32</td>\n",
       "      <td>1</td>\n",
       "    </tr>\n",
       "    <tr>\n",
       "      <th>3</th>\n",
       "      <td>1</td>\n",
       "      <td>89.0</td>\n",
       "      <td>66.0</td>\n",
       "      <td>23.0</td>\n",
       "      <td>94.0</td>\n",
       "      <td>28.1</td>\n",
       "      <td>0.167</td>\n",
       "      <td>21</td>\n",
       "      <td>0</td>\n",
       "    </tr>\n",
       "    <tr>\n",
       "      <th>4</th>\n",
       "      <td>0</td>\n",
       "      <td>137.0</td>\n",
       "      <td>40.0</td>\n",
       "      <td>35.0</td>\n",
       "      <td>168.0</td>\n",
       "      <td>43.1</td>\n",
       "      <td>2.288</td>\n",
       "      <td>33</td>\n",
       "      <td>1</td>\n",
       "    </tr>\n",
       "  </tbody>\n",
       "</table>\n",
       "</div>"
      ],
      "text/plain": [
       "   Pregnancies  Glucose  BloodPressure  SkinThickness  Insulin   BMI  \\\n",
       "0            6    148.0           72.0           35.0      NaN  33.6   \n",
       "1            1     85.0           66.0           29.0      NaN  26.6   \n",
       "2            8    183.0           64.0            NaN      NaN  23.3   \n",
       "3            1     89.0           66.0           23.0     94.0  28.1   \n",
       "4            0    137.0           40.0           35.0    168.0  43.1   \n",
       "\n",
       "   DiabetesPedigreeFunction  Age  Outcome  \n",
       "0                     0.627   50        1  \n",
       "1                     0.351   31        0  \n",
       "2                     0.672   32        1  \n",
       "3                     0.167   21        0  \n",
       "4                     2.288   33        1  "
      ]
     },
     "execution_count": 405,
     "metadata": {},
     "output_type": "execute_result"
    }
   ],
   "source": [
    "diabetes.head()"
   ]
  },
  {
   "cell_type": "code",
   "execution_count": 406,
   "id": "6990df59-46c3-4260-b77f-3b44d0b0ebef",
   "metadata": {},
   "outputs": [
    {
     "data": {
      "text/html": [
       "<div>\n",
       "<style scoped>\n",
       "    .dataframe tbody tr th:only-of-type {\n",
       "        vertical-align: middle;\n",
       "    }\n",
       "\n",
       "    .dataframe tbody tr th {\n",
       "        vertical-align: top;\n",
       "    }\n",
       "\n",
       "    .dataframe thead th {\n",
       "        text-align: right;\n",
       "    }\n",
       "</style>\n",
       "<table border=\"1\" class=\"dataframe\">\n",
       "  <thead>\n",
       "    <tr style=\"text-align: right;\">\n",
       "      <th></th>\n",
       "      <th>Pregnancies</th>\n",
       "      <th>Glucose</th>\n",
       "      <th>BloodPressure</th>\n",
       "      <th>SkinThickness</th>\n",
       "      <th>Insulin</th>\n",
       "      <th>BMI</th>\n",
       "      <th>DiabetesPedigreeFunction</th>\n",
       "      <th>Age</th>\n",
       "      <th>Outcome</th>\n",
       "    </tr>\n",
       "  </thead>\n",
       "  <tbody>\n",
       "    <tr>\n",
       "      <th>count</th>\n",
       "      <td>768.000000</td>\n",
       "      <td>763.000000</td>\n",
       "      <td>733.000000</td>\n",
       "      <td>541.000000</td>\n",
       "      <td>394.000000</td>\n",
       "      <td>757.000000</td>\n",
       "      <td>768.000000</td>\n",
       "      <td>768.000000</td>\n",
       "      <td>768.000000</td>\n",
       "    </tr>\n",
       "    <tr>\n",
       "      <th>mean</th>\n",
       "      <td>3.845052</td>\n",
       "      <td>121.686763</td>\n",
       "      <td>72.405184</td>\n",
       "      <td>29.153420</td>\n",
       "      <td>155.548223</td>\n",
       "      <td>32.457464</td>\n",
       "      <td>0.471876</td>\n",
       "      <td>33.240885</td>\n",
       "      <td>0.348958</td>\n",
       "    </tr>\n",
       "    <tr>\n",
       "      <th>std</th>\n",
       "      <td>3.369578</td>\n",
       "      <td>30.535641</td>\n",
       "      <td>12.382158</td>\n",
       "      <td>10.476982</td>\n",
       "      <td>118.775855</td>\n",
       "      <td>6.924988</td>\n",
       "      <td>0.331329</td>\n",
       "      <td>11.760232</td>\n",
       "      <td>0.476951</td>\n",
       "    </tr>\n",
       "    <tr>\n",
       "      <th>min</th>\n",
       "      <td>0.000000</td>\n",
       "      <td>44.000000</td>\n",
       "      <td>24.000000</td>\n",
       "      <td>7.000000</td>\n",
       "      <td>14.000000</td>\n",
       "      <td>18.200000</td>\n",
       "      <td>0.078000</td>\n",
       "      <td>21.000000</td>\n",
       "      <td>0.000000</td>\n",
       "    </tr>\n",
       "    <tr>\n",
       "      <th>25%</th>\n",
       "      <td>1.000000</td>\n",
       "      <td>99.000000</td>\n",
       "      <td>64.000000</td>\n",
       "      <td>22.000000</td>\n",
       "      <td>76.250000</td>\n",
       "      <td>27.500000</td>\n",
       "      <td>0.243750</td>\n",
       "      <td>24.000000</td>\n",
       "      <td>0.000000</td>\n",
       "    </tr>\n",
       "    <tr>\n",
       "      <th>50%</th>\n",
       "      <td>3.000000</td>\n",
       "      <td>117.000000</td>\n",
       "      <td>72.000000</td>\n",
       "      <td>29.000000</td>\n",
       "      <td>125.000000</td>\n",
       "      <td>32.300000</td>\n",
       "      <td>0.372500</td>\n",
       "      <td>29.000000</td>\n",
       "      <td>0.000000</td>\n",
       "    </tr>\n",
       "    <tr>\n",
       "      <th>75%</th>\n",
       "      <td>6.000000</td>\n",
       "      <td>141.000000</td>\n",
       "      <td>80.000000</td>\n",
       "      <td>36.000000</td>\n",
       "      <td>190.000000</td>\n",
       "      <td>36.600000</td>\n",
       "      <td>0.626250</td>\n",
       "      <td>41.000000</td>\n",
       "      <td>1.000000</td>\n",
       "    </tr>\n",
       "    <tr>\n",
       "      <th>max</th>\n",
       "      <td>17.000000</td>\n",
       "      <td>199.000000</td>\n",
       "      <td>122.000000</td>\n",
       "      <td>99.000000</td>\n",
       "      <td>846.000000</td>\n",
       "      <td>67.100000</td>\n",
       "      <td>2.420000</td>\n",
       "      <td>81.000000</td>\n",
       "      <td>1.000000</td>\n",
       "    </tr>\n",
       "  </tbody>\n",
       "</table>\n",
       "</div>"
      ],
      "text/plain": [
       "       Pregnancies     Glucose  BloodPressure  SkinThickness     Insulin  \\\n",
       "count   768.000000  763.000000     733.000000     541.000000  394.000000   \n",
       "mean      3.845052  121.686763      72.405184      29.153420  155.548223   \n",
       "std       3.369578   30.535641      12.382158      10.476982  118.775855   \n",
       "min       0.000000   44.000000      24.000000       7.000000   14.000000   \n",
       "25%       1.000000   99.000000      64.000000      22.000000   76.250000   \n",
       "50%       3.000000  117.000000      72.000000      29.000000  125.000000   \n",
       "75%       6.000000  141.000000      80.000000      36.000000  190.000000   \n",
       "max      17.000000  199.000000     122.000000      99.000000  846.000000   \n",
       "\n",
       "              BMI  DiabetesPedigreeFunction         Age     Outcome  \n",
       "count  757.000000                768.000000  768.000000  768.000000  \n",
       "mean    32.457464                  0.471876   33.240885    0.348958  \n",
       "std      6.924988                  0.331329   11.760232    0.476951  \n",
       "min     18.200000                  0.078000   21.000000    0.000000  \n",
       "25%     27.500000                  0.243750   24.000000    0.000000  \n",
       "50%     32.300000                  0.372500   29.000000    0.000000  \n",
       "75%     36.600000                  0.626250   41.000000    1.000000  \n",
       "max     67.100000                  2.420000   81.000000    1.000000  "
      ]
     },
     "execution_count": 406,
     "metadata": {},
     "output_type": "execute_result"
    }
   ],
   "source": [
    "#Exploring data characteristics after data cleaning\n",
    "diabetes.describe()"
   ]
  },
  {
   "cell_type": "code",
   "execution_count": 407,
   "id": "cb1d59eb-b234-415a-bf1d-8f21debe2f6b",
   "metadata": {},
   "outputs": [
    {
     "data": {
      "text/html": [
       "<div>\n",
       "<style scoped>\n",
       "    .dataframe tbody tr th:only-of-type {\n",
       "        vertical-align: middle;\n",
       "    }\n",
       "\n",
       "    .dataframe tbody tr th {\n",
       "        vertical-align: top;\n",
       "    }\n",
       "\n",
       "    .dataframe thead th {\n",
       "        text-align: right;\n",
       "    }\n",
       "</style>\n",
       "<table border=\"1\" class=\"dataframe\">\n",
       "  <thead>\n",
       "    <tr style=\"text-align: right;\">\n",
       "      <th></th>\n",
       "      <th>Pregnancies</th>\n",
       "      <th>Glucose</th>\n",
       "      <th>BloodPressure</th>\n",
       "      <th>SkinThickness</th>\n",
       "      <th>Insulin</th>\n",
       "      <th>BMI</th>\n",
       "      <th>DiabetesPedigreeFunction</th>\n",
       "      <th>Age</th>\n",
       "      <th>Outcome</th>\n",
       "    </tr>\n",
       "  </thead>\n",
       "  <tbody>\n",
       "  </tbody>\n",
       "</table>\n",
       "</div>"
      ],
      "text/plain": [
       "Empty DataFrame\n",
       "Columns: [Pregnancies, Glucose, BloodPressure, SkinThickness, Insulin, BMI, DiabetesPedigreeFunction, Age, Outcome]\n",
       "Index: []"
      ]
     },
     "execution_count": 407,
     "metadata": {},
     "output_type": "execute_result"
    }
   ],
   "source": [
    "#Check for duplicates of the same values across attributes listed\n",
    "dups = diabetes.duplicated(['Pregnancies', 'Glucose', 'BloodPressure', 'SkinThickness', 'Insulin', 'BMI', 'DiabetesPedigreeFunction', 'Age', 'Outcome'])\n",
    "diabetes[dups]"
   ]
  },
  {
   "cell_type": "code",
   "execution_count": 408,
   "id": "0b94181a-0a74-4632-9ce7-d697256c84f4",
   "metadata": {},
   "outputs": [
    {
     "data": {
      "text/plain": [
       "Pregnancies                   0\n",
       "Glucose                       5\n",
       "BloodPressure                35\n",
       "SkinThickness               227\n",
       "Insulin                     374\n",
       "BMI                          11\n",
       "DiabetesPedigreeFunction      0\n",
       "Age                           0\n",
       "Outcome                       0\n",
       "dtype: int64"
      ]
     },
     "execution_count": 408,
     "metadata": {},
     "output_type": "execute_result"
    }
   ],
   "source": [
    "#Calculate the number of missing values in each column:\n",
    "diabetes.isnull().sum()"
   ]
  },
  {
   "cell_type": "code",
   "execution_count": 409,
   "id": "7cd23011-f31d-47bb-81ef-9c4cd82fba73",
   "metadata": {},
   "outputs": [
    {
     "data": {
      "text/plain": [
       "<AxesSubplot:>"
      ]
     },
     "execution_count": 409,
     "metadata": {},
     "output_type": "execute_result"
    },
    {
     "data": {
      "image/png": "[encoded data removed]",
      "text/plain": [
       "<Figure size 432x288 with 1 Axes>"
      ]
     },
     "metadata": {
      "needs_background": "light"
     },
     "output_type": "display_data"
    }
   ],
   "source": [
    "#Use a heatmap to visualize missing data\n",
    "sns.heatmap(diabetes.isnull(), cbar=False)"
   ]
  },
  {
   "cell_type": "code",
   "execution_count": 410,
   "id": "05b124ac-2811-49d0-a5d3-f96c4b6043eb",
   "metadata": {},
   "outputs": [
    {
     "data": {
      "text/plain": [
       "0      148.0\n",
       "1       85.0\n",
       "2      183.0\n",
       "3       89.0\n",
       "4      137.0\n",
       "       ...  \n",
       "763    101.0\n",
       "764    122.0\n",
       "765    121.0\n",
       "766    126.0\n",
       "767     93.0\n",
       "Name: Glucose, Length: 768, dtype: float64"
      ]
     },
     "execution_count": 410,
     "metadata": {},
     "output_type": "execute_result"
    }
   ],
   "source": [
    "#Replace missing values in a Glucose column with mean value\n",
    "diabetes['Glucose'].fillna(121)"
   ]
  },
  {
   "cell_type": "code",
   "execution_count": 411,
   "id": "ea0b905c-2e30-4df0-b5a7-380a1a9ffbf6",
   "metadata": {},
   "outputs": [
    {
     "data": {
      "text/plain": [
       "0      72.0\n",
       "1      66.0\n",
       "2      64.0\n",
       "3      66.0\n",
       "4      40.0\n",
       "       ... \n",
       "763    76.0\n",
       "764    70.0\n",
       "765    72.0\n",
       "766    60.0\n",
       "767    70.0\n",
       "Name: BloodPressure, Length: 768, dtype: float64"
      ]
     },
     "execution_count": 411,
     "metadata": {},
     "output_type": "execute_result"
    }
   ],
   "source": [
    "#Replace missing values in a BloodPressure column with mean value\n",
    "diabetes['BloodPressure'].fillna(32)"
   ]
  },
  {
   "cell_type": "code",
   "execution_count": 412,
   "id": "f2e91f20-dcfd-4fd8-81a8-89826e3c4456",
   "metadata": {},
   "outputs": [
    {
     "data": {
      "text/plain": [
       "0      35.0\n",
       "1      29.0\n",
       "2      29.0\n",
       "3      23.0\n",
       "4      35.0\n",
       "       ... \n",
       "763    48.0\n",
       "764    27.0\n",
       "765    23.0\n",
       "766    29.0\n",
       "767    31.0\n",
       "Name: SkinThickness, Length: 768, dtype: float64"
      ]
     },
     "execution_count": 412,
     "metadata": {},
     "output_type": "execute_result"
    }
   ],
   "source": [
    "#Replace missing values in a SkinThickness column with mean value\n",
    "diabetes['SkinThickness'].fillna(29)"
   ]
  },
  {
   "cell_type": "code",
   "execution_count": 413,
   "id": "58112613-2503-49da-8619-531434d15c84",
   "metadata": {},
   "outputs": [
    {
     "data": {
      "text/plain": [
       "0      155.0\n",
       "1      155.0\n",
       "2      155.0\n",
       "3       94.0\n",
       "4      168.0\n",
       "       ...  \n",
       "763    180.0\n",
       "764    155.0\n",
       "765    112.0\n",
       "766    155.0\n",
       "767    155.0\n",
       "Name: Insulin, Length: 768, dtype: float64"
      ]
     },
     "execution_count": 413,
     "metadata": {},
     "output_type": "execute_result"
    }
   ],
   "source": [
    "#Replace missing values in a Insulin column with mean value\n",
    "diabetes['Insulin'].fillna(155)"
   ]
  },
  {
   "cell_type": "code",
   "execution_count": 414,
   "id": "4e6eaeb0-c115-4d70-9fb4-1fb07adf949c",
   "metadata": {},
   "outputs": [
    {
     "data": {
      "text/plain": [
       "0      33.6\n",
       "1      26.6\n",
       "2      23.3\n",
       "3      28.1\n",
       "4      43.1\n",
       "       ... \n",
       "763    32.9\n",
       "764    36.8\n",
       "765    26.2\n",
       "766    30.1\n",
       "767    30.4\n",
       "Name: BMI, Length: 768, dtype: float64"
      ]
     },
     "execution_count": 414,
     "metadata": {},
     "output_type": "execute_result"
    }
   ],
   "source": [
    "#Replace missing values in a BMI column with mean value\n",
    "diabetes['BMI'].fillna(155)"
   ]
  },
  {
   "cell_type": "code",
   "execution_count": 415,
   "id": "6ab1bc86-708f-44b9-af3b-a6a12cf1164a",
   "metadata": {},
   "outputs": [],
   "source": [
    "#Exporting cleaned data\n",
    "#iabetes = diabetes.drop(['log_Age', 'log_Insulin'], axis=1)\n",
    "diabetes.to_csv(\"diabetes_cleaned.csv\", index=False)"
   ]
  },
  {
   "cell_type": "markdown",
   "id": "6bb50304-f18e-4da3-9ab0-aeadca528c06",
   "metadata": {},
   "source": [
    "# Exploratory Data Analysis - Visulization\n",
    "Exploratory data visulization by building graphs to explore data and find patterns.\n",
    "\n",
    "Preliminary esearch question: How are the diagnostic factors (pregnancies, glucose, blood pressure, skin thickness, insulin, BMI, diabetes pedigree function) affected by age in adult women? \n",
    "Independent variable = age\n",
    "Dependent variable = pregnancies, glucose, blood pressure, skin thickness, insulin, BMI, diabetes pedigree function\n",
    "I predict that as age increases blood pressure, skin thickness, and BMI would increase."
   ]
  },
  {
   "cell_type": "markdown",
   "id": "f37e2fb3-7fd4-4c1f-8185-962efe162b66",
   "metadata": {},
   "source": [
    "Age vs. Pregnancies"
   ]
  },
  {
   "cell_type": "code",
   "execution_count": 416,
   "id": "551d1599-7eaf-4c4e-8a28-59bf90dd3085",
   "metadata": {},
   "outputs": [
    {
     "data": {
      "image/png": "[encoded data removed]",
      "text/plain": [
       "<Figure size 432x288 with 1 Axes>"
      ]
     },
     "metadata": {
      "needs_background": "light"
     },
     "output_type": "display_data"
    },
    {
     "name": "stdout",
     "output_type": "stream",
     "text": [
      "0.5443412284023389\n"
     ]
    },
    {
     "data": {
      "image/png": "[encoded data removed]",
      "text/plain": [
       "<Figure size 360x360 with 1 Axes>"
      ]
     },
     "metadata": {
      "needs_background": "light"
     },
     "output_type": "display_data"
    }
   ],
   "source": [
    "#Exploring possible relationship via scatterplot between x (Age) and y (Pregnancies) variables\n",
    "\n",
    "age = sns.scatterplot(x='Age', y='Pregnancies', data=diabetes, palette = 'pastel')\n",
    "plt.title(\"Age vs. Pregnancies\", fontsize = 20) #Title of scatter plot\n",
    "plt.xlabel(\"Age\", fontsize = 15)#x-axis label\n",
    "plt.ylabel(\"Pregnancies\", fontsize = 15) #y-axis label\n",
    "#plt.savefig(\"Age vs. Pregnancies\") #Save generated scatter plot\n",
    "plt.show() #Show scatter plot\n",
    "\n",
    "#Basic regression model between x (Age) and y (BMI) variables\n",
    "BMI_r = sns.lmplot(x='Age', y='Pregnancies', data=diabetes, ci=None)\n",
    "plt.title(\"Scatter Plot with Linear fit\")\n",
    "\n",
    "#Pearson Correlation Coefficient (aka Pearson's r) between x (Age) and y (BMI) variables\n",
    "cor = diabetes['Age'].corr(diabetes['Pregnancies'])\n",
    "print(cor)"
   ]
  },
  {
   "cell_type": "markdown",
   "id": "203b6325-d087-4fba-a945-376f5456368c",
   "metadata": {},
   "source": [
    "Age vs. Glucose"
   ]
  },
  {
   "cell_type": "code",
   "execution_count": 417,
   "id": "08119811-e52a-4ac9-84d2-4f00994e0778",
   "metadata": {},
   "outputs": [
    {
     "data": {
      "image/png": "[encoded data removed]",
      "text/plain": [
       "<Figure size 432x288 with 1 Axes>"
      ]
     },
     "metadata": {
      "needs_background": "light"
     },
     "output_type": "display_data"
    },
    {
     "name": "stdout",
     "output_type": "stream",
     "text": [
      "0.2671355547312527\n"
     ]
    },
    {
     "data": {
      "image/png": "[encoded data removed]",
      "text/plain": [
       "<Figure size 360x360 with 1 Axes>"
      ]
     },
     "metadata": {
      "needs_background": "light"
     },
     "output_type": "display_data"
    }
   ],
   "source": [
    "#Exploring possible relationship via scatterplot between x (Age) and y (Glucose) variables\n",
    "\n",
    "age = sns.scatterplot(x='Age', y='Glucose', data=diabetes, palette = 'pastel')\n",
    "plt.title(\"Age vs. Glucose\", fontsize = 20) #Title of scatter plot\n",
    "plt.xlabel(\"Age\", fontsize = 15)#x-axis label\n",
    "plt.ylabel(\"Glucose\", fontsize = 15) #y-axis label\n",
    "#plt.savefig(\"Age vs. Glucose\") #Save generated scatter plot\n",
    "plt.show() #Show scatter plot\n",
    "\n",
    "#Basic regression model between x (Age) and y (Glucose) variables\n",
    "BMI_r = sns.lmplot(x='Age', y='Glucose', data=diabetes, ci=None)\n",
    "plt.title(\"Scatter Plot with Linear fit\")\n",
    "\n",
    "#Pearson Correlation Coefficient (aka Pearson's r) between x (Age) and y (Glucose) variables\n",
    "cor = diabetes['Age'].corr(diabetes['Glucose'])\n",
    "print(cor)"
   ]
  },
  {
   "cell_type": "markdown",
   "id": "b62ec3df-5b44-42b4-9c7e-c225bd660e70",
   "metadata": {},
   "source": [
    "Age vs. BloodPressure"
   ]
  },
  {
   "cell_type": "code",
   "execution_count": 418,
   "id": "b8dbb326-abe5-4ba6-ad10-b104f8d51bd4",
   "metadata": {},
   "outputs": [
    {
     "data": {
      "image/png": "[encoded data removed]",
      "text/plain": [
       "<Figure size 432x288 with 1 Axes>"
      ]
     },
     "metadata": {
      "needs_background": "light"
     },
     "output_type": "display_data"
    },
    {
     "name": "stdout",
     "output_type": "stream",
     "text": [
      "0.3301074252030011\n"
     ]
    },
    {
     "data": {
      "image/png": "[encoded data removed]",
      "text/plain": [
       "<Figure size 360x360 with 1 Axes>"
      ]
     },
     "metadata": {
      "needs_background": "light"
     },
     "output_type": "display_data"
    }
   ],
   "source": [
    "#Exploring possible relationship via scatterplot between x (Age) and y (BloodPressure) variables\n",
    "\n",
    "age = sns.scatterplot(x='Age', y='BloodPressure', data=diabetes, palette = 'pastel')\n",
    "plt.title(\"Age vs. BloodPressure\", fontsize = 20) #Title of scatter plot\n",
    "plt.xlabel(\"Age\", fontsize = 15)#x-axis label\n",
    "plt.ylabel(\"BloodPressure\", fontsize = 15) #y-axis label\n",
    "#plt.savefig(\"Age vs. BloodPressure\") #Save generated scatter plot\n",
    "plt.show() #Show scatter plot\n",
    "\n",
    "#Basic regression model between x (Age) and y (BloodPressure) variables\n",
    "BMI_r = sns.lmplot(x='Age', y='BloodPressure', data=diabetes, ci=None)\n",
    "plt.title(\"Scatter Plot with Linear fit\")\n",
    "\n",
    "#Pearson Correlation Coefficient (aka Pearson's r) between x (Age) and y (BloodPressure) variables\n",
    "cor = diabetes['Age'].corr(diabetes['BloodPressure'])\n",
    "print(cor)"
   ]
  },
  {
   "cell_type": "markdown",
   "id": "1d7d0df6-327f-4fc2-9944-753c1f03d238",
   "metadata": {},
   "source": [
    "Age vs. SkinThickness"
   ]
  },
  {
   "cell_type": "code",
   "execution_count": 419,
   "id": "1cbb7a72-bd06-4123-9cef-920a29e54bca",
   "metadata": {},
   "outputs": [
    {
     "data": {
      "image/png": "[encoded data removed]",
      "text/plain": [
       "<Figure size 432x288 with 1 Axes>"
      ]
     },
     "metadata": {
      "needs_background": "light"
     },
     "output_type": "display_data"
    },
    {
     "name": "stdout",
     "output_type": "stream",
     "text": [
      "0.16681577419885849\n"
     ]
    },
    {
     "data": {
      "image/png": "[encoded data removed]",
      "text/plain": [
       "<Figure size 360x360 with 1 Axes>"
      ]
     },
     "metadata": {
      "needs_background": "light"
     },
     "output_type": "display_data"
    }
   ],
   "source": [
    "#Exploring possible relationship via scatterplot between x (Age) and y (SkinThickness) variables\n",
    "\n",
    "age = sns.scatterplot(x='Age', y='SkinThickness', data=diabetes, palette = 'pastel')\n",
    "plt.title(\"Age vs. SkinThickness\", fontsize = 20) #Title of scatter plot\n",
    "plt.xlabel(\"Age\", fontsize = 15)#x-axis label\n",
    "plt.ylabel(\"SkinThickness\", fontsize = 15) #y-axis label\n",
    "#plt.savefig(\"Age vs. SkinThickness\") #Save generated scatter plot\n",
    "plt.show() #Show scatter plot\n",
    "\n",
    "#Basic regression model between x (Age) and y (SkinThickness) variables\n",
    "BMI_r = sns.lmplot(x='Age', y='SkinThickness', data=diabetes, ci=None)\n",
    "plt.title(\"Scatter Plot with Linear fit\")\n",
    "\n",
    "#Pearson Correlation Coefficient (aka Pearson's r) between x (Age) and y (SkinThickness) variables\n",
    "cor = diabetes['Age'].corr(diabetes['SkinThickness'])\n",
    "print(cor)"
   ]
  },
  {
   "cell_type": "markdown",
   "id": "5f8bafab-afd6-4d89-b095-6091c1ecc2d3",
   "metadata": {},
   "source": [
    "Age vs. Insulin"
   ]
  },
  {
   "cell_type": "code",
   "execution_count": 420,
   "id": "cc9b8960-1241-4070-8237-9f7097114765",
   "metadata": {},
   "outputs": [
    {
     "data": {
      "image/png": "[encoded data removed]",
      "text/plain": [
       "<Figure size 432x288 with 1 Axes>"
      ]
     },
     "metadata": {
      "needs_background": "light"
     },
     "output_type": "display_data"
    },
    {
     "name": "stdout",
     "output_type": "stream",
     "text": [
      "0.22026068477477084\n"
     ]
    },
    {
     "data": {
      "image/png": "[encoded data removed]",
      "text/plain": [
       "<Figure size 360x360 with 1 Axes>"
      ]
     },
     "metadata": {
      "needs_background": "light"
     },
     "output_type": "display_data"
    }
   ],
   "source": [
    "#Exploring possible relationship via scatterplot between x (Age) and y (Insulin) variables\n",
    "\n",
    "age = sns.scatterplot(x='Age', y='Insulin', data=diabetes, palette = 'pastel')\n",
    "plt.title(\"Age vs. Insulin\", fontsize = 20) #Title of scatter plot\n",
    "plt.xlabel(\"Age\", fontsize = 15)#x-axis label\n",
    "plt.ylabel(\"Insulin\", fontsize = 15) #y-axis label\n",
    "#plt.savefig(\"Age vs. Insulin\") #Save generated scatter plot\n",
    "plt.show() #Show scatter plot\n",
    "\n",
    "#Basic regression model between x (Age) and y (Insulin) variables\n",
    "BMI_r = sns.lmplot(x='Age', y='Insulin', data=diabetes, ci=None)\n",
    "plt.title(\"Scatter Plot with Linear fit\")\n",
    "\n",
    "#Pearson Correlation Coefficient (aka Pearson's r) between x (Age) and y (Insulin) variables\n",
    "cor = diabetes['Age'].corr(diabetes['Insulin'])\n",
    "print(cor)"
   ]
  },
  {
   "cell_type": "code",
   "execution_count": 421,
   "id": "2797ccea-7f09-4823-a208-b709404b43b4",
   "metadata": {},
   "outputs": [
    {
     "data": {
      "image/png": "[encoded data removed]",
      "text/plain": [
       "<Figure size 432x288 with 1 Axes>"
      ]
     },
     "metadata": {
      "needs_background": "light"
     },
     "output_type": "display_data"
    },
    {
     "name": "stdout",
     "output_type": "stream",
     "text": [
      "0.26072376210476444\n"
     ]
    },
    {
     "data": {
      "image/png": "[encoded data removed]",
      "text/plain": [
       "<Figure size 360x360 with 1 Axes>"
      ]
     },
     "metadata": {
      "needs_background": "light"
     },
     "output_type": "display_data"
    }
   ],
   "source": [
    "#Testing if np.log on age and insulin would make a difference\n",
    "diabetes['log_Age'] = np.log(diabetes['Age'])\n",
    "diabetes['log_Insulin'] = np.log(diabetes['Insulin'])\n",
    "\n",
    "age = sns.scatterplot(x='log_Age', y='log_Insulin', data=diabetes, palette = 'pastel')\n",
    "plt.title(\"log_Age vs. log_Insulin\", fontsize = 20) #Title of scatter plot\n",
    "plt.xlabel(\"log_Age\", fontsize = 15)#x-axis label\n",
    "plt.ylabel(\"log_Insulin\", fontsize = 15) #y-axis label\n",
    "#plt.savefig(\"Age vs. Insulin\") #Save generated scatter plot\n",
    "plt.show() #Show scatter plot\n",
    "\n",
    "#Basic regression model between x (Age) and y (Insulin) variables\n",
    "BMI_r = sns.lmplot(x='log_Age', y='log_Insulin', data=diabetes, ci=None)\n",
    "plt.title(\"Scatter Plot with Linear fit\")\n",
    "\n",
    "#Pearson Correlation Coefficient (aka Pearson's r) between x (Age) and y (Insulin) variables\n",
    "cor = diabetes['log_Age'].corr(diabetes['log_Insulin'])\n",
    "print(cor)"
   ]
  },
  {
   "cell_type": "markdown",
   "id": "65c67029-b0e2-48cf-b6c9-f3c27eb59d4d",
   "metadata": {},
   "source": [
    "Age vs. BMI"
   ]
  },
  {
   "cell_type": "code",
   "execution_count": 422,
   "id": "9cefac2d-368e-49d4-a8f6-77f0b93d866a",
   "metadata": {},
   "outputs": [
    {
     "data": {
      "image/png": "[encoded data removed]",
      "text/plain": [
       "<Figure size 432x288 with 1 Axes>"
      ]
     },
     "metadata": {
      "needs_background": "light"
     },
     "output_type": "display_data"
    },
    {
     "name": "stdout",
     "output_type": "stream",
     "text": [
      "0.02584145816926202\n"
     ]
    },
    {
     "data": {
      "image/png": "[encoded data removed]",
      "text/plain": [
       "<Figure size 360x360 with 1 Axes>"
      ]
     },
     "metadata": {
      "needs_background": "light"
     },
     "output_type": "display_data"
    }
   ],
   "source": [
    "#Exploring possible relationship via scatterplot between x (Age) and y (BMI) variables\n",
    "\n",
    "age = sns.scatterplot(x='Age', y='BMI', data=diabetes, palette = 'pastel')\n",
    "plt.title(\"Age vs. BMI\", fontsize = 20) #Title of scatter plot\n",
    "plt.xlabel(\"Age\", fontsize = 15) #x-axis label\n",
    "plt.ylabel(\"BMI\", fontsize = 15) #y-axis label\n",
    "#plt.savefig(\"Age vs. BMI\") #Save generated scatter plot\n",
    "plt.show() #Show scatter plot\n",
    "\n",
    "#Basic regression model between x (Age) and y (BMI) variables\n",
    "BMI_r = sns.lmplot(x='Age', y='BMI', data=diabetes, ci=None)\n",
    "plt.title(\"Scatter Plot with Linear fit\")\n",
    "\n",
    "#Pearson Correlation Coefficient (aka Pearson's r) between x (Age) and y (BMI) variables\n",
    "cor = diabetes['Age'].corr(diabetes['BMI'])\n",
    "print(cor)"
   ]
  },
  {
   "cell_type": "markdown",
   "id": "76c2f642-aea0-41d3-b3dc-3ad85592a90d",
   "metadata": {},
   "source": [
    "Age vs. DiabetesPedigreeFunction"
   ]
  },
  {
   "cell_type": "code",
   "execution_count": 423,
   "id": "7839fa12-8c26-4809-b139-f8f3e08b3868",
   "metadata": {},
   "outputs": [
    {
     "data": {
      "image/png": "[encoded data removed]",
      "text/plain": [
       "<Figure size 432x288 with 1 Axes>"
      ]
     },
     "metadata": {
      "needs_background": "light"
     },
     "output_type": "display_data"
    },
    {
     "name": "stdout",
     "output_type": "stream",
     "text": [
      "0.033561312434805514\n"
     ]
    },
    {
     "data": {
      "image/png": "[encoded data removed]",
      "text/plain": [
       "<Figure size 360x360 with 1 Axes>"
      ]
     },
     "metadata": {
      "needs_background": "light"
     },
     "output_type": "display_data"
    }
   ],
   "source": [
    "#Exploring possible relationship via scatterplot between x (Age) and y (DiabetesPedigreeFunction) variables\n",
    "\n",
    "age = sns.scatterplot(x='Age', y='DiabetesPedigreeFunction', data=diabetes, palette = 'pastel')\n",
    "plt.title(\"Age vs. DiabetesPedigreeFunction\", fontsize = 20) #Title of scatter plot\n",
    "plt.xlabel(\"Age\", fontsize = 15)#x-axis label\n",
    "plt.ylabel(\"DiabetesPedigreeFunction\", fontsize = 15) #y-axis label\n",
    "#plt.savefig(\"Age vs. DiabetesPedigreeFunction\") #Save generated scatter plot\n",
    "plt.show() #Show scatter plot\n",
    "\n",
    "#Basic regression model between x (Age) and y (DiabetesPedigreeFunction) variables\n",
    "BMI_r = sns.lmplot(x='Age', y='DiabetesPedigreeFunction', data=diabetes, ci=None)\n",
    "plt.title(\"Scatter Plot with Linear fit\")\n",
    "\n",
    "#Pearson Correlation Coefficient (aka Pearson's r) between x (Age) and y (DiabetesPedigreeFunction) variables\n",
    "cor = diabetes['Age'].corr(diabetes['DiabetesPedigreeFunction'])\n",
    "print(cor)"
   ]
  },
  {
   "cell_type": "code",
   "execution_count": 424,
   "id": "b4702b81-2391-485b-89d5-f5d7067775c3",
   "metadata": {},
   "outputs": [],
   "source": [
    "diabetes = diabetes.drop(['log_Age', 'log_Insulin'], axis=1)"
   ]
  },
  {
   "cell_type": "markdown",
   "id": "db539ccb-c9a8-42b7-8b0b-06e522f42b7e",
   "metadata": {},
   "source": [
    "# Result of Exploratory Data Analysis - Visualizations\n",
    "Contrary to predictions age is not highly corrrelated with any diagnostic measurements, including the predicted factors of blood pressure, skin thickness, and BMI."
   ]
  },
  {
   "cell_type": "code",
   "execution_count": 425,
   "id": "863dcff2-3176-492d-8190-a2c661bdc8b4",
   "metadata": {},
   "outputs": [
    {
     "data": {
      "text/html": [
       "<div>\n",
       "<style scoped>\n",
       "    .dataframe tbody tr th:only-of-type {\n",
       "        vertical-align: middle;\n",
       "    }\n",
       "\n",
       "    .dataframe tbody tr th {\n",
       "        vertical-align: top;\n",
       "    }\n",
       "\n",
       "    .dataframe thead th {\n",
       "        text-align: right;\n",
       "    }\n",
       "</style>\n",
       "<table border=\"1\" class=\"dataframe\">\n",
       "  <thead>\n",
       "    <tr style=\"text-align: right;\">\n",
       "      <th></th>\n",
       "      <th>Independent Variable</th>\n",
       "      <th>Dependent Variable</th>\n",
       "      <th>Pearson Correlation Coefficient</th>\n",
       "      <th>Linear Association Between Variables</th>\n",
       "    </tr>\n",
       "  </thead>\n",
       "  <tbody>\n",
       "    <tr>\n",
       "      <th>0</th>\n",
       "      <td>Age</td>\n",
       "      <td>Pregnancies</td>\n",
       "      <td>0.54</td>\n",
       "      <td>moderate +</td>\n",
       "    </tr>\n",
       "    <tr>\n",
       "      <th>1</th>\n",
       "      <td>Age</td>\n",
       "      <td>Glucose</td>\n",
       "      <td>0.27</td>\n",
       "      <td>weak +</td>\n",
       "    </tr>\n",
       "    <tr>\n",
       "      <th>2</th>\n",
       "      <td>Age</td>\n",
       "      <td>BloodPressure</td>\n",
       "      <td>0.33</td>\n",
       "      <td>weak +</td>\n",
       "    </tr>\n",
       "    <tr>\n",
       "      <th>3</th>\n",
       "      <td>Age</td>\n",
       "      <td>SkinThickness</td>\n",
       "      <td>0.17</td>\n",
       "      <td>weak +</td>\n",
       "    </tr>\n",
       "    <tr>\n",
       "      <th>4</th>\n",
       "      <td>Age</td>\n",
       "      <td>Insulin</td>\n",
       "      <td>0.22</td>\n",
       "      <td>weak +</td>\n",
       "    </tr>\n",
       "    <tr>\n",
       "      <th>5</th>\n",
       "      <td>Age</td>\n",
       "      <td>BMI</td>\n",
       "      <td>0.25</td>\n",
       "      <td>weak +</td>\n",
       "    </tr>\n",
       "    <tr>\n",
       "      <th>6</th>\n",
       "      <td>Age</td>\n",
       "      <td>DiabetesPedigreeFunction</td>\n",
       "      <td>0.04</td>\n",
       "      <td>weak +</td>\n",
       "    </tr>\n",
       "  </tbody>\n",
       "</table>\n",
       "</div>"
      ],
      "text/plain": [
       "  Independent Variable        Dependent Variable  \\\n",
       "0                  Age               Pregnancies   \n",
       "1                  Age                   Glucose   \n",
       "2                  Age             BloodPressure   \n",
       "3                  Age             SkinThickness   \n",
       "4                  Age                   Insulin   \n",
       "5                  Age                       BMI   \n",
       "6                  Age  DiabetesPedigreeFunction   \n",
       "\n",
       "   Pearson Correlation Coefficient Linear Association Between Variables  \n",
       "0                             0.54                           moderate +  \n",
       "1                             0.27                               weak +  \n",
       "2                             0.33                               weak +  \n",
       "3                             0.17                               weak +  \n",
       "4                             0.22                               weak +  \n",
       "5                             0.25                               weak +  \n",
       "6                             0.04                               weak +  "
      ]
     },
     "metadata": {},
     "output_type": "display_data"
    }
   ],
   "source": [
    "#Comparing correlatons between independent variable of age and dependent variables\n",
    "corr = {'Independent Variable': ['Age', 'Age', 'Age', 'Age', 'Age', 'Age', 'Age'],\n",
    "        'Dependent Variable': ['Pregnancies', 'Glucose', 'BloodPressure', 'SkinThickness', 'Insulin', 'BMI', 'DiabetesPedigreeFunction'],\n",
    "        'Pearson Correlation Coefficient' : [0.54, 0.27, 0.33, 0.17, 0.22, 0.25, 0.04],\n",
    "        'Linear Association Between Variables' : ['moderate +', 'weak +', 'weak +', 'weak +', 'weak +', 'weak +', 'weak +']}\n",
    "df_corr = pd.DataFrame(corr)\n",
    "display(df_corr)"
   ]
  },
  {
   "cell_type": "code",
   "execution_count": 426,
   "id": "cb6ebd36-5595-4f65-960f-763247df9247",
   "metadata": {},
   "outputs": [
    {
     "data": {
      "text/html": [
       "<div>\n",
       "<style scoped>\n",
       "    .dataframe tbody tr th:only-of-type {\n",
       "        vertical-align: middle;\n",
       "    }\n",
       "\n",
       "    .dataframe tbody tr th {\n",
       "        vertical-align: top;\n",
       "    }\n",
       "\n",
       "    .dataframe thead th {\n",
       "        text-align: right;\n",
       "    }\n",
       "</style>\n",
       "<table border=\"1\" class=\"dataframe\">\n",
       "  <thead>\n",
       "    <tr style=\"text-align: right;\">\n",
       "      <th></th>\n",
       "      <th>Pregnancies</th>\n",
       "      <th>Glucose</th>\n",
       "      <th>BloodPressure</th>\n",
       "      <th>SkinThickness</th>\n",
       "      <th>Insulin</th>\n",
       "      <th>BMI</th>\n",
       "      <th>DiabetesPedigreeFunction</th>\n",
       "      <th>Age</th>\n",
       "      <th>Outcome</th>\n",
       "    </tr>\n",
       "  </thead>\n",
       "  <tbody>\n",
       "    <tr>\n",
       "      <th>Pregnancies</th>\n",
       "      <td>1.000000</td>\n",
       "      <td>0.128135</td>\n",
       "      <td>0.214178</td>\n",
       "      <td>0.100239</td>\n",
       "      <td>0.082171</td>\n",
       "      <td>0.021719</td>\n",
       "      <td>-0.033523</td>\n",
       "      <td>0.544341</td>\n",
       "      <td>0.221898</td>\n",
       "    </tr>\n",
       "    <tr>\n",
       "      <th>Glucose</th>\n",
       "      <td>0.128135</td>\n",
       "      <td>1.000000</td>\n",
       "      <td>0.223192</td>\n",
       "      <td>0.228043</td>\n",
       "      <td>0.581186</td>\n",
       "      <td>0.232771</td>\n",
       "      <td>0.137246</td>\n",
       "      <td>0.267136</td>\n",
       "      <td>0.494650</td>\n",
       "    </tr>\n",
       "    <tr>\n",
       "      <th>BloodPressure</th>\n",
       "      <td>0.214178</td>\n",
       "      <td>0.223192</td>\n",
       "      <td>1.000000</td>\n",
       "      <td>0.226839</td>\n",
       "      <td>0.098272</td>\n",
       "      <td>0.289230</td>\n",
       "      <td>-0.002805</td>\n",
       "      <td>0.330107</td>\n",
       "      <td>0.170589</td>\n",
       "    </tr>\n",
       "    <tr>\n",
       "      <th>SkinThickness</th>\n",
       "      <td>0.100239</td>\n",
       "      <td>0.228043</td>\n",
       "      <td>0.226839</td>\n",
       "      <td>1.000000</td>\n",
       "      <td>0.184888</td>\n",
       "      <td>0.648214</td>\n",
       "      <td>0.115016</td>\n",
       "      <td>0.166816</td>\n",
       "      <td>0.259491</td>\n",
       "    </tr>\n",
       "    <tr>\n",
       "      <th>Insulin</th>\n",
       "      <td>0.082171</td>\n",
       "      <td>0.581186</td>\n",
       "      <td>0.098272</td>\n",
       "      <td>0.184888</td>\n",
       "      <td>1.000000</td>\n",
       "      <td>0.228050</td>\n",
       "      <td>0.130395</td>\n",
       "      <td>0.220261</td>\n",
       "      <td>0.303454</td>\n",
       "    </tr>\n",
       "    <tr>\n",
       "      <th>BMI</th>\n",
       "      <td>0.021719</td>\n",
       "      <td>0.232771</td>\n",
       "      <td>0.289230</td>\n",
       "      <td>0.648214</td>\n",
       "      <td>0.228050</td>\n",
       "      <td>1.000000</td>\n",
       "      <td>0.155382</td>\n",
       "      <td>0.025841</td>\n",
       "      <td>0.313680</td>\n",
       "    </tr>\n",
       "    <tr>\n",
       "      <th>DiabetesPedigreeFunction</th>\n",
       "      <td>-0.033523</td>\n",
       "      <td>0.137246</td>\n",
       "      <td>-0.002805</td>\n",
       "      <td>0.115016</td>\n",
       "      <td>0.130395</td>\n",
       "      <td>0.155382</td>\n",
       "      <td>1.000000</td>\n",
       "      <td>0.033561</td>\n",
       "      <td>0.173844</td>\n",
       "    </tr>\n",
       "    <tr>\n",
       "      <th>Age</th>\n",
       "      <td>0.544341</td>\n",
       "      <td>0.267136</td>\n",
       "      <td>0.330107</td>\n",
       "      <td>0.166816</td>\n",
       "      <td>0.220261</td>\n",
       "      <td>0.025841</td>\n",
       "      <td>0.033561</td>\n",
       "      <td>1.000000</td>\n",
       "      <td>0.238356</td>\n",
       "    </tr>\n",
       "    <tr>\n",
       "      <th>Outcome</th>\n",
       "      <td>0.221898</td>\n",
       "      <td>0.494650</td>\n",
       "      <td>0.170589</td>\n",
       "      <td>0.259491</td>\n",
       "      <td>0.303454</td>\n",
       "      <td>0.313680</td>\n",
       "      <td>0.173844</td>\n",
       "      <td>0.238356</td>\n",
       "      <td>1.000000</td>\n",
       "    </tr>\n",
       "  </tbody>\n",
       "</table>\n",
       "</div>"
      ],
      "text/plain": [
       "                          Pregnancies   Glucose  BloodPressure  SkinThickness  \\\n",
       "Pregnancies                  1.000000  0.128135       0.214178       0.100239   \n",
       "Glucose                      0.128135  1.000000       0.223192       0.228043   \n",
       "BloodPressure                0.214178  0.223192       1.000000       0.226839   \n",
       "SkinThickness                0.100239  0.228043       0.226839       1.000000   \n",
       "Insulin                      0.082171  0.581186       0.098272       0.184888   \n",
       "BMI                          0.021719  0.232771       0.289230       0.648214   \n",
       "DiabetesPedigreeFunction    -0.033523  0.137246      -0.002805       0.115016   \n",
       "Age                          0.544341  0.267136       0.330107       0.166816   \n",
       "Outcome                      0.221898  0.494650       0.170589       0.259491   \n",
       "\n",
       "                           Insulin       BMI  DiabetesPedigreeFunction  \\\n",
       "Pregnancies               0.082171  0.021719                 -0.033523   \n",
       "Glucose                   0.581186  0.232771                  0.137246   \n",
       "BloodPressure             0.098272  0.289230                 -0.002805   \n",
       "SkinThickness             0.184888  0.648214                  0.115016   \n",
       "Insulin                   1.000000  0.228050                  0.130395   \n",
       "BMI                       0.228050  1.000000                  0.155382   \n",
       "DiabetesPedigreeFunction  0.130395  0.155382                  1.000000   \n",
       "Age                       0.220261  0.025841                  0.033561   \n",
       "Outcome                   0.303454  0.313680                  0.173844   \n",
       "\n",
       "                               Age   Outcome  \n",
       "Pregnancies               0.544341  0.221898  \n",
       "Glucose                   0.267136  0.494650  \n",
       "BloodPressure             0.330107  0.170589  \n",
       "SkinThickness             0.166816  0.259491  \n",
       "Insulin                   0.220261  0.303454  \n",
       "BMI                       0.025841  0.313680  \n",
       "DiabetesPedigreeFunction  0.033561  0.173844  \n",
       "Age                       1.000000  0.238356  \n",
       "Outcome                   0.238356  1.000000  "
      ]
     },
     "execution_count": 426,
     "metadata": {},
     "output_type": "execute_result"
    }
   ],
   "source": [
    "#Overview of all correlations between all pairs of numerical columns\n",
    "diabetes.corr()"
   ]
  },
  {
   "cell_type": "markdown",
   "id": "2c9045ae-c68d-4ed6-bdd2-1a20be66682e",
   "metadata": {},
   "source": [
    "Glucose with Insulin 0.58\n",
    "Glucose with Outcome 0.49\n",
    "SkinThickness with BMI 0.64\n",
    "Insulin with Outcome 0.30\n",
    "BMI with Outcome 0.31\n",
    "Age with Pregnancies 0.544\n",
    "\n",
    "Glucose, insulin, age indicators of Diabetes (Outcome)?"
   ]
  },
  {
   "cell_type": "code",
   "execution_count": 427,
   "id": "23706a82-0cdf-4c5d-87bb-5a89c216b813",
   "metadata": {},
   "outputs": [
    {
     "data": {
      "text/html": [
       "<div>\n",
       "<style scoped>\n",
       "    .dataframe tbody tr th:only-of-type {\n",
       "        vertical-align: middle;\n",
       "    }\n",
       "\n",
       "    .dataframe tbody tr th {\n",
       "        vertical-align: top;\n",
       "    }\n",
       "\n",
       "    .dataframe thead th {\n",
       "        text-align: right;\n",
       "    }\n",
       "</style>\n",
       "<table border=\"1\" class=\"dataframe\">\n",
       "  <thead>\n",
       "    <tr style=\"text-align: right;\">\n",
       "      <th></th>\n",
       "      <th>Glucose</th>\n",
       "      <th>SkinThickness</th>\n",
       "      <th>Insulin</th>\n",
       "      <th>BMI</th>\n",
       "      <th>Age</th>\n",
       "    </tr>\n",
       "  </thead>\n",
       "  <tbody>\n",
       "    <tr>\n",
       "      <th>Pregnancies</th>\n",
       "      <td>0.128135</td>\n",
       "      <td>0.100239</td>\n",
       "      <td>0.082171</td>\n",
       "      <td>0.021719</td>\n",
       "      <td>0.544341</td>\n",
       "    </tr>\n",
       "    <tr>\n",
       "      <th>Glucose</th>\n",
       "      <td>1.000000</td>\n",
       "      <td>0.228043</td>\n",
       "      <td>0.581186</td>\n",
       "      <td>0.232771</td>\n",
       "      <td>0.267136</td>\n",
       "    </tr>\n",
       "    <tr>\n",
       "      <th>BloodPressure</th>\n",
       "      <td>0.223192</td>\n",
       "      <td>0.226839</td>\n",
       "      <td>0.098272</td>\n",
       "      <td>0.289230</td>\n",
       "      <td>0.330107</td>\n",
       "    </tr>\n",
       "    <tr>\n",
       "      <th>SkinThickness</th>\n",
       "      <td>0.228043</td>\n",
       "      <td>1.000000</td>\n",
       "      <td>0.184888</td>\n",
       "      <td>0.648214</td>\n",
       "      <td>0.166816</td>\n",
       "    </tr>\n",
       "    <tr>\n",
       "      <th>Insulin</th>\n",
       "      <td>0.581186</td>\n",
       "      <td>0.184888</td>\n",
       "      <td>1.000000</td>\n",
       "      <td>0.228050</td>\n",
       "      <td>0.220261</td>\n",
       "    </tr>\n",
       "    <tr>\n",
       "      <th>BMI</th>\n",
       "      <td>0.232771</td>\n",
       "      <td>0.648214</td>\n",
       "      <td>0.228050</td>\n",
       "      <td>1.000000</td>\n",
       "      <td>0.025841</td>\n",
       "    </tr>\n",
       "    <tr>\n",
       "      <th>DiabetesPedigreeFunction</th>\n",
       "      <td>0.137246</td>\n",
       "      <td>0.115016</td>\n",
       "      <td>0.130395</td>\n",
       "      <td>0.155382</td>\n",
       "      <td>0.033561</td>\n",
       "    </tr>\n",
       "    <tr>\n",
       "      <th>Age</th>\n",
       "      <td>0.267136</td>\n",
       "      <td>0.166816</td>\n",
       "      <td>0.220261</td>\n",
       "      <td>0.025841</td>\n",
       "      <td>1.000000</td>\n",
       "    </tr>\n",
       "    <tr>\n",
       "      <th>Outcome</th>\n",
       "      <td>0.494650</td>\n",
       "      <td>0.259491</td>\n",
       "      <td>0.303454</td>\n",
       "      <td>0.313680</td>\n",
       "      <td>0.238356</td>\n",
       "    </tr>\n",
       "  </tbody>\n",
       "</table>\n",
       "</div>"
      ],
      "text/plain": [
       "                           Glucose  SkinThickness   Insulin       BMI  \\\n",
       "Pregnancies               0.128135       0.100239  0.082171  0.021719   \n",
       "Glucose                   1.000000       0.228043  0.581186  0.232771   \n",
       "BloodPressure             0.223192       0.226839  0.098272  0.289230   \n",
       "SkinThickness             0.228043       1.000000  0.184888  0.648214   \n",
       "Insulin                   0.581186       0.184888  1.000000  0.228050   \n",
       "BMI                       0.232771       0.648214  0.228050  1.000000   \n",
       "DiabetesPedigreeFunction  0.137246       0.115016  0.130395  0.155382   \n",
       "Age                       0.267136       0.166816  0.220261  0.025841   \n",
       "Outcome                   0.494650       0.259491  0.303454  0.313680   \n",
       "\n",
       "                               Age  \n",
       "Pregnancies               0.544341  \n",
       "Glucose                   0.267136  \n",
       "BloodPressure             0.330107  \n",
       "SkinThickness             0.166816  \n",
       "Insulin                   0.220261  \n",
       "BMI                       0.025841  \n",
       "DiabetesPedigreeFunction  0.033561  \n",
       "Age                       1.000000  \n",
       "Outcome                   0.238356  "
      ]
     },
     "execution_count": 427,
     "metadata": {},
     "output_type": "execute_result"
    }
   ],
   "source": [
    "diabetes.corr()[['Glucose', 'SkinThickness', 'Insulin', 'BMI', 'Age']]"
   ]
  },
  {
   "cell_type": "markdown",
   "id": "d12ad7e5-00de-48b7-88a5-810ea9eec486",
   "metadata": {},
   "source": [
    "# Multiple Linear Regression\n",
    "What is the effect of SkinThickness on BMI?\n",
    "What is the effect of Insulin on Glucose?\n",
    "Does outcome (diabetes) effect either of those attributes?"
   ]
  },
  {
   "cell_type": "code",
   "execution_count": 428,
   "id": "f11d78f8-efd8-49ad-8ba4-cb9703408a8d",
   "metadata": {},
   "outputs": [
    {
     "data": {
      "image/png": "[encoded data removed]",
      "text/plain": [
       "<Figure size 432x288 with 1 Axes>"
      ]
     },
     "metadata": {
      "needs_background": "light"
     },
     "output_type": "display_data"
    },
    {
     "name": "stdout",
     "output_type": "stream",
     "text": [
      "0.6482139430923206\n"
     ]
    },
    {
     "data": {
      "image/png": "[encoded data removed]",
      "text/plain": [
       "<Figure size 413.25x360 with 1 Axes>"
      ]
     },
     "metadata": {
      "needs_background": "light"
     },
     "output_type": "display_data"
    }
   ],
   "source": [
    "#Exploring possible relationship via scatterplot between x (BMI) and y (SkinThickness) variables\n",
    "\n",
    "age = sns.scatterplot(x='BMI', y='SkinThickness', hue='Outcome', data=diabetes, palette = 'plasma')\n",
    "plt.title(\"BMI vs. SkinThickness\", fontsize = 20) #Title of scatter plot\n",
    "plt.xlabel(\"BMI\", fontsize = 15)#x-axis label\n",
    "plt.ylabel(\"SkinThickness\", fontsize = 15) #y-axis label\n",
    "#plt.savefig(\"Age vs. DiabetesPedigreeFunction\") #Save generated scatter plot\n",
    "plt.show() #Show scatter plot\n",
    "\n",
    "#Basic regression model between x (Age) and y (DiabetesPedigreeFunction) variables\n",
    "BMI_r = sns.lmplot(x='BMI', y='SkinThickness', hue='Outcome', data=diabetes, palette = 'plasma', ci=None)\n",
    "plt.title(\"Scatter Plot with Linear fit\")\n",
    "\n",
    "#Pearson Correlation Coefficient (aka Pearson's r) between x (Age) and y (DiabetesPedigreeFunction) variables\n",
    "cor = diabetes['BMI'].corr(diabetes['SkinThickness'])\n",
    "print(cor)"
   ]
  },
  {
   "cell_type": "code",
   "execution_count": 429,
   "id": "4af61fa5-75e0-4530-b514-b8159d1c8fa5",
   "metadata": {},
   "outputs": [
    {
     "data": {
      "image/png": "[encoded data removed]",
      "text/plain": [
       "<Figure size 432x288 with 1 Axes>"
      ]
     },
     "metadata": {
      "needs_background": "light"
     },
     "output_type": "display_data"
    },
    {
     "name": "stdout",
     "output_type": "stream",
     "text": [
      "0.5811862089121648\n"
     ]
    },
    {
     "data": {
      "image/png": "[encoded data removed]",
      "text/plain": [
       "<Figure size 413.25x360 with 1 Axes>"
      ]
     },
     "metadata": {
      "needs_background": "light"
     },
     "output_type": "display_data"
    }
   ],
   "source": [
    "#Exploring possible relationship via scatterplot between x (Glucose) and y (Insulin) variables\n",
    "\n",
    "age = sns.scatterplot(x='Glucose', y='Insulin', hue='Outcome', data=diabetes, palette = 'pastel')\n",
    "plt.title(\"Glucose vs. Insulin\", fontsize = 20) #Title of scatter plot\n",
    "plt.xlabel(\"Glucose\", fontsize = 15)#x-axis label\n",
    "plt.ylabel(\"Insulin\", fontsize = 15) #y-axis label\n",
    "#plt.savefig(\"Age vs. DiabetesPedigreeFunction\") #Save generated scatter plot\n",
    "plt.show() #Show scatter plot\n",
    "\n",
    "#Basic regression model between x (Age) and y (DiabetesPedigreeFunction) variables\n",
    "BMI_r = sns.lmplot(x='Glucose', y='Insulin', hue='Outcome', data=diabetes, palette = 'pastel', ci=None)\n",
    "plt.title(\"Scatter Plot with Linear fit\")\n",
    "\n",
    "#Pearson Correlation Coefficient (aka Pearson's r) between x (Age) and y (DiabetesPedigreeFunction) variables\n",
    "cor = diabetes['Glucose'].corr(diabetes['Insulin'])\n",
    "print(cor)"
   ]
  },
  {
   "cell_type": "code",
   "execution_count": 430,
   "id": "0d797167-f8e3-4433-8f4b-397d55d3cdb8",
   "metadata": {},
   "outputs": [
    {
     "data": {
      "text/plain": [
       "<seaborn.axisgrid.FacetGrid at 0x170207d1bb0>"
      ]
     },
     "execution_count": 430,
     "metadata": {},
     "output_type": "execute_result"
    },
    {
     "data": {
      "image/png": "[encoded data removed]",
      "text/plain": [
       "<Figure size 413.25x360 with 1 Axes>"
      ]
     },
     "metadata": {
      "needs_background": "light"
     },
     "output_type": "display_data"
    }
   ],
   "source": [
    "#Does diabetes increase with age?\n",
    "sns.catplot(y=\"Age\", hue=\"Outcome\", kind=\"count\",\n",
    "            palette=\"pastel\", edgecolor=\".6\",\n",
    "            data=diabetes)"
   ]
  },
  {
   "cell_type": "markdown",
   "id": "a3aa18c3-395f-4c6f-9b73-3c23e39ccdde",
   "metadata": {},
   "source": [
    "Seems like outcome (diabetes) does not seem to influence the trend. Though I still wonder if any of the attributes (BMI, Skin Thickness, Glucose, Insulin) affect diabetes outcomes?\n",
    "I'll conduct t-tests to investigate futher."
   ]
  },
  {
   "cell_type": "markdown",
   "id": "7f8ff563-78c3-4b00-91e0-de5d2f82d664",
   "metadata": {},
   "source": [
    "# Exploratory Data Analysis - T-test\n",
    "The null hypothesis (H0) is that the true difference of BMI between these group means (with diabetes and without diabetes) is zero. µa = µb\n",
    "The alternate hypothesis (Ha) is that the true difference is different from zero. µa ≠ µb\n"
   ]
  },
  {
   "cell_type": "code",
   "execution_count": 431,
   "id": "285f868f-4900-4da1-998d-c6acea9dc33c",
   "metadata": {},
   "outputs": [
    {
     "name": "stdout",
     "output_type": "stream",
     "text": [
      "     Pregnancies  Glucose  BloodPressure  SkinThickness  Insulin   BMI  \\\n",
      "383            1     90.0           62.0           18.0     59.0  25.1   \n",
      "465            0    124.0           56.0           13.0    105.0  21.8   \n",
      "466            0     74.0           52.0           10.0     36.0  27.8   \n",
      "467            0     97.0           64.0           36.0    100.0  36.8   \n",
      "469            6    154.0           78.0           41.0    140.0  46.1   \n",
      "..           ...      ...            ...            ...      ...   ...   \n",
      "193           11    135.0            NaN            NaN      NaN  52.3   \n",
      "485            0    135.0           68.0           42.0    250.0  42.3   \n",
      "484            0    145.0            NaN            NaN      NaN  44.2   \n",
      "186            8    181.0           68.0           36.0    495.0  30.1   \n",
      "0              6    148.0           72.0           35.0      NaN  33.6   \n",
      "\n",
      "     DiabetesPedigreeFunction  Age  Outcome  \n",
      "383                     1.268   25        0  \n",
      "465                     0.452   21        0  \n",
      "466                     0.269   22        0  \n",
      "467                     0.600   25        0  \n",
      "469                     0.571   27        0  \n",
      "..                        ...  ...      ...  \n",
      "193                     0.578   40        1  \n",
      "485                     0.365   24        1  \n",
      "484                     0.630   31        1  \n",
      "186                     0.615   60        1  \n",
      "0                       0.627   50        1  \n",
      "\n",
      "[768 rows x 9 columns]\n"
     ]
    }
   ],
   "source": [
    "sort = diabetes.sort_values('Outcome', axis = 0, ascending = True)\n",
    "print(sort)\n",
    "#Exporting sorted data by outcome\n",
    "#sort.to_csv(\"diabetes_sort by outcome.csv\", index=False)"
   ]
  },
  {
   "cell_type": "code",
   "execution_count": 432,
   "id": "476f1b81-edb5-42c8-8bd9-392e8b827fbe",
   "metadata": {},
   "outputs": [
    {
     "data": {
      "text/html": [
       "<div>\n",
       "<style scoped>\n",
       "    .dataframe tbody tr th:only-of-type {\n",
       "        vertical-align: middle;\n",
       "    }\n",
       "\n",
       "    .dataframe tbody tr th {\n",
       "        vertical-align: top;\n",
       "    }\n",
       "\n",
       "    .dataframe thead th {\n",
       "        text-align: right;\n",
       "    }\n",
       "</style>\n",
       "<table border=\"1\" class=\"dataframe\">\n",
       "  <thead>\n",
       "    <tr style=\"text-align: right;\">\n",
       "      <th></th>\n",
       "      <th>BMI</th>\n",
       "      <th>Outcome</th>\n",
       "    </tr>\n",
       "  </thead>\n",
       "  <tbody>\n",
       "    <tr>\n",
       "      <th>1</th>\n",
       "      <td>26.6</td>\n",
       "      <td>0</td>\n",
       "    </tr>\n",
       "    <tr>\n",
       "      <th>3</th>\n",
       "      <td>28.1</td>\n",
       "      <td>0</td>\n",
       "    </tr>\n",
       "    <tr>\n",
       "      <th>5</th>\n",
       "      <td>25.6</td>\n",
       "      <td>0</td>\n",
       "    </tr>\n",
       "    <tr>\n",
       "      <th>7</th>\n",
       "      <td>35.3</td>\n",
       "      <td>0</td>\n",
       "    </tr>\n",
       "    <tr>\n",
       "      <th>10</th>\n",
       "      <td>37.6</td>\n",
       "      <td>0</td>\n",
       "    </tr>\n",
       "    <tr>\n",
       "      <th>...</th>\n",
       "      <td>...</td>\n",
       "      <td>...</td>\n",
       "    </tr>\n",
       "    <tr>\n",
       "      <th>762</th>\n",
       "      <td>22.5</td>\n",
       "      <td>0</td>\n",
       "    </tr>\n",
       "    <tr>\n",
       "      <th>763</th>\n",
       "      <td>32.9</td>\n",
       "      <td>0</td>\n",
       "    </tr>\n",
       "    <tr>\n",
       "      <th>764</th>\n",
       "      <td>36.8</td>\n",
       "      <td>0</td>\n",
       "    </tr>\n",
       "    <tr>\n",
       "      <th>765</th>\n",
       "      <td>26.2</td>\n",
       "      <td>0</td>\n",
       "    </tr>\n",
       "    <tr>\n",
       "      <th>767</th>\n",
       "      <td>30.4</td>\n",
       "      <td>0</td>\n",
       "    </tr>\n",
       "  </tbody>\n",
       "</table>\n",
       "<p>500 rows × 2 columns</p>\n",
       "</div>"
      ],
      "text/plain": [
       "      BMI  Outcome\n",
       "1    26.6        0\n",
       "3    28.1        0\n",
       "5    25.6        0\n",
       "7    35.3        0\n",
       "10   37.6        0\n",
       "..    ...      ...\n",
       "762  22.5        0\n",
       "763  32.9        0\n",
       "764  36.8        0\n",
       "765  26.2        0\n",
       "767  30.4        0\n",
       "\n",
       "[500 rows x 2 columns]"
      ]
     },
     "execution_count": 432,
     "metadata": {},
     "output_type": "execute_result"
    }
   ],
   "source": [
    "df_0 = diabetes[diabetes['Outcome'] == 0]\n",
    "df_0_drop = df_0.drop(['Pregnancies', 'Glucose', 'BloodPressure', 'SkinThickness', 'Insulin', 'DiabetesPedigreeFunction', 'Age'], axis=1)\n",
    "df_0_drop\n"
   ]
  },
  {
   "cell_type": "code",
   "execution_count": 433,
   "id": "5b14bdf6-a705-4d14-b189-3c092d33685a",
   "metadata": {},
   "outputs": [
    {
     "data": {
      "text/html": [
       "<div>\n",
       "<style scoped>\n",
       "    .dataframe tbody tr th:only-of-type {\n",
       "        vertical-align: middle;\n",
       "    }\n",
       "\n",
       "    .dataframe tbody tr th {\n",
       "        vertical-align: top;\n",
       "    }\n",
       "\n",
       "    .dataframe thead th {\n",
       "        text-align: right;\n",
       "    }\n",
       "</style>\n",
       "<table border=\"1\" class=\"dataframe\">\n",
       "  <thead>\n",
       "    <tr style=\"text-align: right;\">\n",
       "      <th></th>\n",
       "      <th>BMI</th>\n",
       "      <th>Outcome</th>\n",
       "    </tr>\n",
       "  </thead>\n",
       "  <tbody>\n",
       "    <tr>\n",
       "      <th>0</th>\n",
       "      <td>33.6</td>\n",
       "      <td>1</td>\n",
       "    </tr>\n",
       "    <tr>\n",
       "      <th>2</th>\n",
       "      <td>23.3</td>\n",
       "      <td>1</td>\n",
       "    </tr>\n",
       "    <tr>\n",
       "      <th>4</th>\n",
       "      <td>43.1</td>\n",
       "      <td>1</td>\n",
       "    </tr>\n",
       "    <tr>\n",
       "      <th>6</th>\n",
       "      <td>31.0</td>\n",
       "      <td>1</td>\n",
       "    </tr>\n",
       "    <tr>\n",
       "      <th>8</th>\n",
       "      <td>30.5</td>\n",
       "      <td>1</td>\n",
       "    </tr>\n",
       "    <tr>\n",
       "      <th>...</th>\n",
       "      <td>...</td>\n",
       "      <td>...</td>\n",
       "    </tr>\n",
       "    <tr>\n",
       "      <th>755</th>\n",
       "      <td>36.5</td>\n",
       "      <td>1</td>\n",
       "    </tr>\n",
       "    <tr>\n",
       "      <th>757</th>\n",
       "      <td>36.3</td>\n",
       "      <td>1</td>\n",
       "    </tr>\n",
       "    <tr>\n",
       "      <th>759</th>\n",
       "      <td>35.5</td>\n",
       "      <td>1</td>\n",
       "    </tr>\n",
       "    <tr>\n",
       "      <th>761</th>\n",
       "      <td>44.0</td>\n",
       "      <td>1</td>\n",
       "    </tr>\n",
       "    <tr>\n",
       "      <th>766</th>\n",
       "      <td>30.1</td>\n",
       "      <td>1</td>\n",
       "    </tr>\n",
       "  </tbody>\n",
       "</table>\n",
       "<p>268 rows × 2 columns</p>\n",
       "</div>"
      ],
      "text/plain": [
       "      BMI  Outcome\n",
       "0    33.6        1\n",
       "2    23.3        1\n",
       "4    43.1        1\n",
       "6    31.0        1\n",
       "8    30.5        1\n",
       "..    ...      ...\n",
       "755  36.5        1\n",
       "757  36.3        1\n",
       "759  35.5        1\n",
       "761  44.0        1\n",
       "766  30.1        1\n",
       "\n",
       "[268 rows x 2 columns]"
      ]
     },
     "execution_count": 433,
     "metadata": {},
     "output_type": "execute_result"
    }
   ],
   "source": [
    "df_1 = diabetes[diabetes['Outcome'] == 1]\n",
    "df_1_drop = df_1.drop(['Pregnancies', 'Glucose', 'BloodPressure', 'SkinThickness', 'Insulin', 'DiabetesPedigreeFunction', 'Age'], axis=1)\n",
    "df_1_drop"
   ]
  },
  {
   "cell_type": "code",
   "execution_count": 434,
   "id": "f3de161b-2712-48bf-a08b-5499d8daf576",
   "metadata": {},
   "outputs": [
    {
     "name": "stdout",
     "output_type": "stream",
     "text": [
      "      BMI  Outcome\n",
      "389  31.6        0\n",
      "684   NaN        0\n",
      "119  23.2        0\n",
      "345  38.5        0\n",
      "735  35.4        0\n",
      "..    ...      ...\n",
      "428  40.6        0\n",
      "747  46.3        0\n",
      "352  34.4        0\n",
      "452  39.9        0\n",
      "411  34.4        0\n",
      "\n",
      "[250 rows x 2 columns]\n"
     ]
    }
   ],
   "source": [
    "#Creating random samples from pandas dataframe of NO diabetes group\n",
    "sampleData_0 = df_0_drop.sample(n=250, random_state=5);\n",
    "print(sampleData_0)"
   ]
  },
  {
   "cell_type": "code",
   "execution_count": 435,
   "id": "920b734e-aedc-42ba-a641-cd230358e699",
   "metadata": {},
   "outputs": [
    {
     "name": "stdout",
     "output_type": "stream",
     "text": [
      "BMI        31.160905\n",
      "Outcome     0.000000\n",
      "dtype: float64\n"
     ]
    }
   ],
   "source": [
    "mean_group_0 = sampleData_0.mean()\n",
    "print(mean_group_0)"
   ]
  },
  {
   "cell_type": "code",
   "execution_count": 436,
   "id": "d882602d-95d5-413c-a311-75fc12bd44b5",
   "metadata": {},
   "outputs": [
    {
     "name": "stdout",
     "output_type": "stream",
     "text": [
      "      BMI  Outcome\n",
      "435  42.4        1\n",
      "580  42.1        1\n",
      "515  31.6        1\n",
      "187  32.0        1\n",
      "443  30.5        1\n",
      "..    ...      ...\n",
      "468  30.0        1\n",
      "186  30.1        1\n",
      "588  33.3        1\n",
      "592  34.4        1\n",
      "120  53.2        1\n",
      "\n",
      "[250 rows x 2 columns]\n"
     ]
    }
   ],
   "source": [
    "#Creating random samples from pandas dataframe of YES diabetes group\n",
    "sampleData_1 = df_1_drop.sample(n=250, random_state=5);\n",
    "print(sampleData_1)"
   ]
  },
  {
   "cell_type": "code",
   "execution_count": 437,
   "id": "6609fe91-1aec-4901-b87f-2e38d86d533a",
   "metadata": {},
   "outputs": [
    {
     "name": "stdout",
     "output_type": "stream",
     "text": [
      "BMI        35.485887\n",
      "Outcome     1.000000\n",
      "dtype: float64\n"
     ]
    }
   ],
   "source": [
    "mean_group_1 = sampleData_1.mean()\n",
    "print(mean_group_1)"
   ]
  },
  {
   "cell_type": "code",
   "execution_count": 438,
   "id": "7b399714-39d0-46b1-9c51-915206653189",
   "metadata": {},
   "outputs": [
    {
     "name": "stdout",
     "output_type": "stream",
     "text": [
      "BMI        39.544603\n",
      "Outcome     0.000000\n",
      "dtype: float64 BMI        44.341696\n",
      "Outcome     0.000000\n",
      "dtype: float64\n"
     ]
    }
   ],
   "source": [
    "#Find variance for both groups\n",
    "print(np.var(sampleData_0), np.var(sampleData_1))"
   ]
  },
  {
   "cell_type": "code",
   "execution_count": 439,
   "id": "fef69215-99c6-4a58-b524-97587974aaac",
   "metadata": {},
   "outputs": [
    {
     "data": {
      "text/plain": [
       "1.1213960546282247"
      ]
     },
     "execution_count": 439,
     "metadata": {},
     "output_type": "execute_result"
    }
   ],
   "source": [
    "#The ratio of larger sample variance to the smaller sample variance. To check if the reatio is small enough to perform a standard independent 2 sample t-test that assumes equal population variance.\n",
    "44.34/39.54"
   ]
  },
  {
   "cell_type": "code",
   "execution_count": 440,
   "id": "a4c7ceeb-0bd4-4aff-a7ce-949bbebb5bfa",
   "metadata": {},
   "outputs": [],
   "source": [
    "#Converting data frame of negative diabetes samples to array\n",
    "#group_0 = sampleData_0.to_numpy()\n",
    "#group_0\n",
    "\n",
    "#Converting data frame of positive diabetes samples to array\n",
    "#group_1 = sampleData_1.to_numpy()\n",
    "#group_1"
   ]
  },
  {
   "cell_type": "code",
   "execution_count": 441,
   "id": "46d39863-8c90-48eb-ab08-4d0ff6dba099",
   "metadata": {
    "tags": []
   },
   "outputs": [
    {
     "name": "stdout",
     "output_type": "stream",
     "text": [
      "P-Value:6.792503603356977e-13 T-Statistic:-7.38123882107828\n"
     ]
    }
   ],
   "source": [
    "#Two sample t-test\n",
    "#To test if the two population means are equal\n",
    "tStat, pValue = stats.ttest_ind(a=sampleData_0['BMI'], b=sampleData_1['BMI'], equal_var=True, nan_policy='omit')\n",
    "print(\"P-Value:{0} T-Statistic:{1}\".format(pValue,tStat)) #Pint the P-Value and the T-Statistic"
   ]
  },
  {
   "cell_type": "code",
   "execution_count": 442,
   "id": "ca24665f-ddcc-4dd7-8364-248a54d12b97",
   "metadata": {},
   "outputs": [
    {
     "data": {
      "text/plain": [
       "<matplotlib.legend.Legend at 0x1701dd7d760>"
      ]
     },
     "execution_count": 442,
     "metadata": {},
     "output_type": "execute_result"
    },
    {
     "data": {
      "image/png": "[encoded data removed]",
      "text/plain": [
       "<Figure size 432x288 with 1 Axes>"
      ]
     },
     "metadata": {
      "needs_background": "light"
     },
     "output_type": "display_data"
    }
   ],
   "source": [
    "sns.kdeplot(data=sampleData_0['BMI'], shade=True, palette='crest', label='without diabetes')\n",
    "sns.kdeplot(data=sampleData_1['BMI'], shade=True, label='with diabetes')\n",
    "plt.title(\"Independent Sample T-Test of With and Without Diabetes\")\n",
    "plt.legend()"
   ]
  },
  {
   "cell_type": "markdown",
   "id": "000c6a50-4466-4dd1-b6d1-c8b0ac0a8736",
   "metadata": {},
   "source": [
    "P-Value of 6.79 is more than alpha = 0.05 so we can not reject the null hypothesis that the BMI is the same for those with diabetes versus those without diabetes.\n",
    "There is not enough evidence that BMI does affect diabetes outcomes."
   ]
  },
  {
   "cell_type": "markdown",
   "id": "ddfefcc2-18b4-4dd2-9633-34c1b7d6cef2",
   "metadata": {},
   "source": [
    "# ANOVA"
   ]
  },
  {
   "cell_type": "code",
   "execution_count": 443,
   "id": "4ef1e084-95be-4f83-bd2d-09f83418d304",
   "metadata": {},
   "outputs": [
    {
     "data": {
      "text/html": [
       "<div>\n",
       "<style scoped>\n",
       "    .dataframe tbody tr th:only-of-type {\n",
       "        vertical-align: middle;\n",
       "    }\n",
       "\n",
       "    .dataframe tbody tr th {\n",
       "        vertical-align: top;\n",
       "    }\n",
       "\n",
       "    .dataframe thead th {\n",
       "        text-align: right;\n",
       "    }\n",
       "</style>\n",
       "<table border=\"1\" class=\"dataframe\">\n",
       "  <thead>\n",
       "    <tr style=\"text-align: right;\">\n",
       "      <th></th>\n",
       "      <th>Pregnancies</th>\n",
       "      <th>Glucose</th>\n",
       "      <th>BloodPressure</th>\n",
       "      <th>SkinThickness</th>\n",
       "      <th>Insulin</th>\n",
       "      <th>BMI</th>\n",
       "      <th>DiabetesPedigreeFunction</th>\n",
       "      <th>Age</th>\n",
       "      <th>Outcome</th>\n",
       "    </tr>\n",
       "  </thead>\n",
       "  <tbody>\n",
       "    <tr>\n",
       "      <th>0</th>\n",
       "      <td>6</td>\n",
       "      <td>148.0</td>\n",
       "      <td>72.0</td>\n",
       "      <td>35.0</td>\n",
       "      <td>NaN</td>\n",
       "      <td>33.6</td>\n",
       "      <td>0.627</td>\n",
       "      <td>50</td>\n",
       "      <td>1</td>\n",
       "    </tr>\n",
       "    <tr>\n",
       "      <th>1</th>\n",
       "      <td>1</td>\n",
       "      <td>85.0</td>\n",
       "      <td>66.0</td>\n",
       "      <td>29.0</td>\n",
       "      <td>NaN</td>\n",
       "      <td>26.6</td>\n",
       "      <td>0.351</td>\n",
       "      <td>31</td>\n",
       "      <td>0</td>\n",
       "    </tr>\n",
       "    <tr>\n",
       "      <th>2</th>\n",
       "      <td>8</td>\n",
       "      <td>183.0</td>\n",
       "      <td>64.0</td>\n",
       "      <td>NaN</td>\n",
       "      <td>NaN</td>\n",
       "      <td>23.3</td>\n",
       "      <td>0.672</td>\n",
       "      <td>32</td>\n",
       "      <td>1</td>\n",
       "    </tr>\n",
       "    <tr>\n",
       "      <th>3</th>\n",
       "      <td>1</td>\n",
       "      <td>89.0</td>\n",
       "      <td>66.0</td>\n",
       "      <td>23.0</td>\n",
       "      <td>94.0</td>\n",
       "      <td>28.1</td>\n",
       "      <td>0.167</td>\n",
       "      <td>21</td>\n",
       "      <td>0</td>\n",
       "    </tr>\n",
       "    <tr>\n",
       "      <th>4</th>\n",
       "      <td>0</td>\n",
       "      <td>137.0</td>\n",
       "      <td>40.0</td>\n",
       "      <td>35.0</td>\n",
       "      <td>168.0</td>\n",
       "      <td>43.1</td>\n",
       "      <td>2.288</td>\n",
       "      <td>33</td>\n",
       "      <td>1</td>\n",
       "    </tr>\n",
       "  </tbody>\n",
       "</table>\n",
       "</div>"
      ],
      "text/plain": [
       "   Pregnancies  Glucose  BloodPressure  SkinThickness  Insulin   BMI  \\\n",
       "0            6    148.0           72.0           35.0      NaN  33.6   \n",
       "1            1     85.0           66.0           29.0      NaN  26.6   \n",
       "2            8    183.0           64.0            NaN      NaN  23.3   \n",
       "3            1     89.0           66.0           23.0     94.0  28.1   \n",
       "4            0    137.0           40.0           35.0    168.0  43.1   \n",
       "\n",
       "   DiabetesPedigreeFunction  Age  Outcome  \n",
       "0                     0.627   50        1  \n",
       "1                     0.351   31        0  \n",
       "2                     0.672   32        1  \n",
       "3                     0.167   21        0  \n",
       "4                     2.288   33        1  "
      ]
     },
     "execution_count": 443,
     "metadata": {},
     "output_type": "execute_result"
    }
   ],
   "source": [
    "#Import clean csv file as pandas dataframe\n",
    "diabetes_c = pd.read_csv('diabetes_cleaned.csv')\n",
    "diabetes_c.head()"
   ]
  },
  {
   "cell_type": "code",
   "execution_count": 444,
   "id": "1c1b618c-d7eb-4eb8-9c53-8f80d80631bf",
   "metadata": {},
   "outputs": [
    {
     "data": {
      "text/plain": [
       "0               Obese\n",
       "1          Overweight\n",
       "2              Normal\n",
       "3          Overweight\n",
       "4      Morbidly Obese\n",
       "            ...      \n",
       "763             Obese\n",
       "764             Obese\n",
       "765        Overweight\n",
       "766             Obese\n",
       "767             Obese\n",
       "Name: BMI, Length: 768, dtype: object"
      ]
     },
     "execution_count": 444,
     "metadata": {},
     "output_type": "execute_result"
    }
   ],
   "source": [
    "#Changing BMI to categorical variable\n",
    "def label(element):\n",
    "    if element < 18.4:\n",
    "        return 'Underweight'\n",
    "    elif 18.5 < element < 24.9:\n",
    "        return 'Normal'\n",
    "    elif 25.0 < element < 29.9:\n",
    "        return 'Overweight'\n",
    "    elif 30 < element < 39.9:\n",
    "        return 'Obese'\n",
    "    else:\n",
    "        return 'Morbidly Obese'\n",
    "BMICategory = diabetes_c['BMI'].apply(label)\n",
    "BMICategory "
   ]
  },
  {
   "cell_type": "code",
   "execution_count": 445,
   "id": "88e75d5b-1351-41c7-9cc6-0446bf884991",
   "metadata": {},
   "outputs": [
    {
     "data": {
      "text/html": [
       "<div>\n",
       "<style scoped>\n",
       "    .dataframe tbody tr th:only-of-type {\n",
       "        vertical-align: middle;\n",
       "    }\n",
       "\n",
       "    .dataframe tbody tr th {\n",
       "        vertical-align: top;\n",
       "    }\n",
       "\n",
       "    .dataframe thead th {\n",
       "        text-align: right;\n",
       "    }\n",
       "</style>\n",
       "<table border=\"1\" class=\"dataframe\">\n",
       "  <thead>\n",
       "    <tr style=\"text-align: right;\">\n",
       "      <th></th>\n",
       "      <th>Pregnancies</th>\n",
       "      <th>Glucose</th>\n",
       "      <th>BloodPressure</th>\n",
       "      <th>SkinThickness</th>\n",
       "      <th>Insulin</th>\n",
       "      <th>BMI</th>\n",
       "      <th>DiabetesPedigreeFunction</th>\n",
       "      <th>Age</th>\n",
       "      <th>Outcome</th>\n",
       "      <th>BMICategory</th>\n",
       "    </tr>\n",
       "  </thead>\n",
       "  <tbody>\n",
       "    <tr>\n",
       "      <th>0</th>\n",
       "      <td>6</td>\n",
       "      <td>148.0</td>\n",
       "      <td>72.0</td>\n",
       "      <td>35.0</td>\n",
       "      <td>NaN</td>\n",
       "      <td>33.6</td>\n",
       "      <td>0.627</td>\n",
       "      <td>50</td>\n",
       "      <td>1</td>\n",
       "      <td>Obese</td>\n",
       "    </tr>\n",
       "    <tr>\n",
       "      <th>1</th>\n",
       "      <td>1</td>\n",
       "      <td>85.0</td>\n",
       "      <td>66.0</td>\n",
       "      <td>29.0</td>\n",
       "      <td>NaN</td>\n",
       "      <td>26.6</td>\n",
       "      <td>0.351</td>\n",
       "      <td>31</td>\n",
       "      <td>0</td>\n",
       "      <td>Overweight</td>\n",
       "    </tr>\n",
       "    <tr>\n",
       "      <th>2</th>\n",
       "      <td>8</td>\n",
       "      <td>183.0</td>\n",
       "      <td>64.0</td>\n",
       "      <td>NaN</td>\n",
       "      <td>NaN</td>\n",
       "      <td>23.3</td>\n",
       "      <td>0.672</td>\n",
       "      <td>32</td>\n",
       "      <td>1</td>\n",
       "      <td>Normal</td>\n",
       "    </tr>\n",
       "    <tr>\n",
       "      <th>3</th>\n",
       "      <td>1</td>\n",
       "      <td>89.0</td>\n",
       "      <td>66.0</td>\n",
       "      <td>23.0</td>\n",
       "      <td>94.0</td>\n",
       "      <td>28.1</td>\n",
       "      <td>0.167</td>\n",
       "      <td>21</td>\n",
       "      <td>0</td>\n",
       "      <td>Overweight</td>\n",
       "    </tr>\n",
       "    <tr>\n",
       "      <th>4</th>\n",
       "      <td>0</td>\n",
       "      <td>137.0</td>\n",
       "      <td>40.0</td>\n",
       "      <td>35.0</td>\n",
       "      <td>168.0</td>\n",
       "      <td>43.1</td>\n",
       "      <td>2.288</td>\n",
       "      <td>33</td>\n",
       "      <td>1</td>\n",
       "      <td>Morbidly Obese</td>\n",
       "    </tr>\n",
       "  </tbody>\n",
       "</table>\n",
       "</div>"
      ],
      "text/plain": [
       "   Pregnancies  Glucose  BloodPressure  SkinThickness  Insulin   BMI  \\\n",
       "0            6    148.0           72.0           35.0      NaN  33.6   \n",
       "1            1     85.0           66.0           29.0      NaN  26.6   \n",
       "2            8    183.0           64.0            NaN      NaN  23.3   \n",
       "3            1     89.0           66.0           23.0     94.0  28.1   \n",
       "4            0    137.0           40.0           35.0    168.0  43.1   \n",
       "\n",
       "   DiabetesPedigreeFunction  Age  Outcome     BMICategory  \n",
       "0                     0.627   50        1           Obese  \n",
       "1                     0.351   31        0      Overweight  \n",
       "2                     0.672   32        1          Normal  \n",
       "3                     0.167   21        0      Overweight  \n",
       "4                     2.288   33        1  Morbidly Obese  "
      ]
     },
     "execution_count": 445,
     "metadata": {},
     "output_type": "execute_result"
    }
   ],
   "source": [
    "#Add newly created BMI category as column of cleaned dataset\n",
    "diabetes_c['BMICategory'] = diabetes_c['BMI'].apply(label)\n",
    "diabetes_c.head()"
   ]
  },
  {
   "cell_type": "code",
   "execution_count": 446,
   "id": "5e723dc5-8ceb-4f32-ad51-38ed2638bd2e",
   "metadata": {},
   "outputs": [
    {
     "data": {
      "text/html": [
       "<div>\n",
       "<style scoped>\n",
       "    .dataframe tbody tr th:only-of-type {\n",
       "        vertical-align: middle;\n",
       "    }\n",
       "\n",
       "    .dataframe tbody tr th {\n",
       "        vertical-align: top;\n",
       "    }\n",
       "\n",
       "    .dataframe thead th {\n",
       "        text-align: right;\n",
       "    }\n",
       "</style>\n",
       "<table border=\"1\" class=\"dataframe\">\n",
       "  <thead>\n",
       "    <tr style=\"text-align: right;\">\n",
       "      <th></th>\n",
       "      <th>BMICategory</th>\n",
       "      <th>variable</th>\n",
       "      <th>value</th>\n",
       "    </tr>\n",
       "  </thead>\n",
       "  <tbody>\n",
       "    <tr>\n",
       "      <th>0</th>\n",
       "      <td>Obese</td>\n",
       "      <td>SkinThickness</td>\n",
       "      <td>35.0</td>\n",
       "    </tr>\n",
       "    <tr>\n",
       "      <th>1</th>\n",
       "      <td>Overweight</td>\n",
       "      <td>SkinThickness</td>\n",
       "      <td>29.0</td>\n",
       "    </tr>\n",
       "    <tr>\n",
       "      <th>2</th>\n",
       "      <td>Normal</td>\n",
       "      <td>SkinThickness</td>\n",
       "      <td>NaN</td>\n",
       "    </tr>\n",
       "    <tr>\n",
       "      <th>3</th>\n",
       "      <td>Overweight</td>\n",
       "      <td>SkinThickness</td>\n",
       "      <td>23.0</td>\n",
       "    </tr>\n",
       "    <tr>\n",
       "      <th>4</th>\n",
       "      <td>Morbidly Obese</td>\n",
       "      <td>SkinThickness</td>\n",
       "      <td>35.0</td>\n",
       "    </tr>\n",
       "    <tr>\n",
       "      <th>...</th>\n",
       "      <td>...</td>\n",
       "      <td>...</td>\n",
       "      <td>...</td>\n",
       "    </tr>\n",
       "    <tr>\n",
       "      <th>763</th>\n",
       "      <td>Obese</td>\n",
       "      <td>SkinThickness</td>\n",
       "      <td>48.0</td>\n",
       "    </tr>\n",
       "    <tr>\n",
       "      <th>764</th>\n",
       "      <td>Obese</td>\n",
       "      <td>SkinThickness</td>\n",
       "      <td>27.0</td>\n",
       "    </tr>\n",
       "    <tr>\n",
       "      <th>765</th>\n",
       "      <td>Overweight</td>\n",
       "      <td>SkinThickness</td>\n",
       "      <td>23.0</td>\n",
       "    </tr>\n",
       "    <tr>\n",
       "      <th>766</th>\n",
       "      <td>Obese</td>\n",
       "      <td>SkinThickness</td>\n",
       "      <td>NaN</td>\n",
       "    </tr>\n",
       "    <tr>\n",
       "      <th>767</th>\n",
       "      <td>Obese</td>\n",
       "      <td>SkinThickness</td>\n",
       "      <td>31.0</td>\n",
       "    </tr>\n",
       "  </tbody>\n",
       "</table>\n",
       "<p>768 rows × 3 columns</p>\n",
       "</div>"
      ],
      "text/plain": [
       "        BMICategory       variable  value\n",
       "0             Obese  SkinThickness   35.0\n",
       "1        Overweight  SkinThickness   29.0\n",
       "2            Normal  SkinThickness    NaN\n",
       "3        Overweight  SkinThickness   23.0\n",
       "4    Morbidly Obese  SkinThickness   35.0\n",
       "..              ...            ...    ...\n",
       "763           Obese  SkinThickness   48.0\n",
       "764           Obese  SkinThickness   27.0\n",
       "765      Overweight  SkinThickness   23.0\n",
       "766           Obese  SkinThickness    NaN\n",
       "767           Obese  SkinThickness   31.0\n",
       "\n",
       "[768 rows x 3 columns]"
      ]
     },
     "execution_count": 446,
     "metadata": {},
     "output_type": "execute_result"
    }
   ],
   "source": [
    "BMI_vs_SkinThickness = pd.melt(diabetes_c, id_vars=['BMICategory'], value_vars=['SkinThickness'])\n",
    "BMI_vs_SkinThickness "
   ]
  },
  {
   "cell_type": "code",
   "execution_count": 447,
   "id": "5e7357a1-c05f-45fa-b58d-0a73e5bb8253",
   "metadata": {},
   "outputs": [
    {
     "data": {
      "text/plain": [
       "<AxesSubplot:title={'center':'value'}, xlabel='[BMICategory]'>"
      ]
     },
     "execution_count": 447,
     "metadata": {},
     "output_type": "execute_result"
    },
    {
     "data": {
      "image/png": "[encoded data removed]",
      "text/plain": [
       "<Figure size 864x576 with 1 Axes>"
      ]
     },
     "metadata": {
      "needs_background": "light"
     },
     "output_type": "display_data"
    }
   ],
   "source": [
    "#Create a boxplot\n",
    "BMI_vs_SkinThickness.boxplot(['value'], by=['BMICategory'], figsize=(12, 8))"
   ]
  },
  {
   "cell_type": "code",
   "execution_count": 448,
   "id": "db4fac52-6d91-4c8b-9938-3494f7430a39",
   "metadata": {},
   "outputs": [],
   "source": [
    "ctrl = BMI_vs_SkinThickness['value'][BMI_vs_SkinThickness.BMICategory == 'Normal']\n",
    "\n",
    "grps = pd.unique(BMI_vs_SkinThickness.BMICategory.values)\n",
    "d_BMI_vs_SkinThickness = {grp:BMI_vs_SkinThickness['value'][BMI_vs_SkinThickness.BMICategory == grp] for grp in grps}\n",
    "\n",
    "k = len(pd.unique(BMI_vs_SkinThickness.BMICategory))  #Number of conditions\n",
    "N = len(BMI_vs_SkinThickness.values)  #Conditions times participants\n",
    "n = BMI_vs_SkinThickness.groupby('BMICategory').size()[0] #Participants in each condition"
   ]
  },
  {
   "cell_type": "code",
   "execution_count": 449,
   "id": "925539ec-c1c6-418c-9478-c80256c8e32e",
   "metadata": {},
   "outputs": [],
   "source": [
    "F, p = stats.f_oneway(d_BMI_vs_SkinThickness['Morbidly Obese'], d_BMI_vs_SkinThickness['Normal'], d_BMI_vs_SkinThickness['Obese'], d_BMI_vs_SkinThickness['Overweight'], d_BMI_vs_SkinThickness['Underweight'])"
   ]
  },
  {
   "cell_type": "code",
   "execution_count": 450,
   "id": "f25528a5-21b8-4f11-b138-b6f13e3b263a",
   "metadata": {},
   "outputs": [],
   "source": [
    "DFbetween = k - 1\n",
    "DFwithin = N - k\n",
    "DFtotal = N - 1"
   ]
  },
  {
   "cell_type": "code",
   "execution_count": 451,
   "id": "ee5762df-e6dc-4287-a633-afda51eab017",
   "metadata": {},
   "outputs": [],
   "source": [
    "SSbetween = (sum(BMI_vs_SkinThickness.groupby('BMICategory').sum()['value']**2)/n) \\\n",
    "    - (BMI_vs_SkinThickness['value'].sum()**2)/N"
   ]
  },
  {
   "cell_type": "code",
   "execution_count": 452,
   "id": "0e2e6bc6-ac6e-4384-bb59-d9c3fdcd91c1",
   "metadata": {},
   "outputs": [],
   "source": [
    "#Calculate within sum of squares\n",
    "sum_y_squared = sum([value**2 for value in BMI_vs_SkinThickness['value'].values])\n",
    "SSwithin = sum_y_squared - sum(BMI_vs_SkinThickness.groupby('BMICategory').sum()['value']**2)/n"
   ]
  },
  {
   "cell_type": "code",
   "execution_count": 453,
   "id": "e218cf92-a1da-462c-befb-36a115dd3b26",
   "metadata": {},
   "outputs": [],
   "source": [
    "#Calculate total sum of squares\n",
    "SStotal = sum_y_squared - (BMI_vs_SkinThickness['value'].sum()**2)/N"
   ]
  },
  {
   "cell_type": "code",
   "execution_count": 454,
   "id": "00e4bc2c-9032-414e-a9fe-cd792c3460ac",
   "metadata": {},
   "outputs": [],
   "source": [
    "#Calculate mean square within and between\n",
    "MSbetween = SSbetween/DFbetween\n",
    "MSwithin = SSwithin/DFwithin"
   ]
  },
  {
   "cell_type": "code",
   "execution_count": 455,
   "id": "3b9793e7-46b7-44cb-8324-05e5a9ef78bc",
   "metadata": {},
   "outputs": [],
   "source": [
    "#Calculate F test\n",
    "F = MSbetween/MSwithin"
   ]
  },
  {
   "cell_type": "code",
   "execution_count": 456,
   "id": "31f29d6a-f572-4295-be5a-10a89efef058",
   "metadata": {},
   "outputs": [],
   "source": [
    "#Calculate p value\n",
    "p = stats.f.sf(F, DFbetween, DFwithin)"
   ]
  },
  {
   "cell_type": "code",
   "execution_count": 457,
   "id": "538a9438-a101-41ed-ae56-347dc102e77d",
   "metadata": {},
   "outputs": [],
   "source": [
    "#Calculate effect size (eta squared)\n",
    "eta_sqrd = SSbetween/SStotal"
   ]
  },
  {
   "cell_type": "code",
   "execution_count": 458,
   "id": "ee1289c9-86eb-41bf-b096-fee336b9627f",
   "metadata": {},
   "outputs": [],
   "source": [
    "#Calculate omega squared\n",
    "om_sqrd = (SSbetween - (DFbetween * MSwithin))/(SStotal + MSwithin)"
   ]
  },
  {
   "cell_type": "code",
   "execution_count": 459,
   "id": "823a073f-ffc7-42be-bbca-cbbc4cb81442",
   "metadata": {},
   "outputs": [
    {
     "name": "stdout",
     "output_type": "stream",
     "text": [
      "                   sum_sq     df          F        PR(>F)\n",
      "BMICategory  20062.451744    4.0  68.560167  7.413373e-47\n",
      "Residual     39211.814430  536.0        NaN           NaN\n"
     ]
    }
   ],
   "source": [
    "#ANOVA simple table\n",
    "import statsmodels.api as sm\n",
    "from statsmodels.formula.api import ols\n",
    "\n",
    "mod = ols('value ~ BMICategory',\n",
    "                data=BMI_vs_SkinThickness).fit()\n",
    "                \n",
    "aov_table = sm.stats.anova_lm(mod, typ=2)\n",
    "print(aov_table)"
   ]
  },
  {
   "cell_type": "code",
   "execution_count": 460,
   "id": "7c41bae6-991e-4f4c-96de-82101c62fc4a",
   "metadata": {},
   "outputs": [
    {
     "data": {
      "text/html": [
       "<div>\n",
       "<style scoped>\n",
       "    .dataframe tbody tr th:only-of-type {\n",
       "        vertical-align: middle;\n",
       "    }\n",
       "\n",
       "    .dataframe tbody tr th {\n",
       "        vertical-align: top;\n",
       "    }\n",
       "\n",
       "    .dataframe thead th {\n",
       "        text-align: right;\n",
       "    }\n",
       "</style>\n",
       "<table border=\"1\" class=\"dataframe\">\n",
       "  <thead>\n",
       "    <tr style=\"text-align: right;\">\n",
       "      <th></th>\n",
       "      <th>coef</th>\n",
       "      <th>std err</th>\n",
       "      <th>t</th>\n",
       "      <th>P&gt;|t|</th>\n",
       "      <th>Conf. Int. Low</th>\n",
       "      <th>Conf. Int. Upp.</th>\n",
       "      <th>pvalue-hs</th>\n",
       "      <th>reject-hs</th>\n",
       "    </tr>\n",
       "  </thead>\n",
       "  <tbody>\n",
       "    <tr>\n",
       "      <th>Normal-Morbidly Obese</th>\n",
       "      <td>-19.434884</td>\n",
       "      <td>1.438725</td>\n",
       "      <td>-13.508412</td>\n",
       "      <td>5.369092e-36</td>\n",
       "      <td>-22.261114</td>\n",
       "      <td>-16.608654</td>\n",
       "      <td>0.000000</td>\n",
       "      <td>True</td>\n",
       "    </tr>\n",
       "    <tr>\n",
       "      <th>Obese-Morbidly Obese</th>\n",
       "      <td>-5.086354</td>\n",
       "      <td>1.058118</td>\n",
       "      <td>-4.806984</td>\n",
       "      <td>1.992906e-06</td>\n",
       "      <td>-7.164920</td>\n",
       "      <td>-3.007789</td>\n",
       "      <td>0.000012</td>\n",
       "      <td>True</td>\n",
       "    </tr>\n",
       "    <tr>\n",
       "      <th>Overweight-Morbidly Obese</th>\n",
       "      <td>-13.836537</td>\n",
       "      <td>1.206339</td>\n",
       "      <td>-11.469859</td>\n",
       "      <td>2.186669e-27</td>\n",
       "      <td>-16.206268</td>\n",
       "      <td>-11.466805</td>\n",
       "      <td>0.000000</td>\n",
       "      <td>True</td>\n",
       "    </tr>\n",
       "    <tr>\n",
       "      <th>Underweight-Morbidly Obese</th>\n",
       "      <td>-20.034884</td>\n",
       "      <td>6.117911</td>\n",
       "      <td>-3.274791</td>\n",
       "      <td>1.125690e-03</td>\n",
       "      <td>-32.052907</td>\n",
       "      <td>-8.016860</td>\n",
       "      <td>0.004495</td>\n",
       "      <td>True</td>\n",
       "    </tr>\n",
       "    <tr>\n",
       "      <th>Obese-Normal</th>\n",
       "      <td>14.348529</td>\n",
       "      <td>1.219930</td>\n",
       "      <td>11.761761</td>\n",
       "      <td>1.428333e-28</td>\n",
       "      <td>11.952099</td>\n",
       "      <td>16.744960</td>\n",
       "      <td>0.000000</td>\n",
       "      <td>True</td>\n",
       "    </tr>\n",
       "    <tr>\n",
       "      <th>Overweight-Normal</th>\n",
       "      <td>5.598347</td>\n",
       "      <td>1.350508</td>\n",
       "      <td>4.145365</td>\n",
       "      <td>3.943041e-05</td>\n",
       "      <td>2.945410</td>\n",
       "      <td>8.251284</td>\n",
       "      <td>0.000197</td>\n",
       "      <td>True</td>\n",
       "    </tr>\n",
       "    <tr>\n",
       "      <th>Underweight-Normal</th>\n",
       "      <td>-0.600000</td>\n",
       "      <td>6.147964</td>\n",
       "      <td>-0.097593</td>\n",
       "      <td>9.222917e-01</td>\n",
       "      <td>-12.677058</td>\n",
       "      <td>11.477058</td>\n",
       "      <td>0.922292</td>\n",
       "      <td>False</td>\n",
       "    </tr>\n",
       "    <tr>\n",
       "      <th>Overweight-Obese</th>\n",
       "      <td>-8.750182</td>\n",
       "      <td>0.934642</td>\n",
       "      <td>-9.362070</td>\n",
       "      <td>2.141662e-19</td>\n",
       "      <td>-10.586192</td>\n",
       "      <td>-6.914172</td>\n",
       "      <td>0.000000</td>\n",
       "      <td>True</td>\n",
       "    </tr>\n",
       "    <tr>\n",
       "      <th>Underweight-Obese</th>\n",
       "      <td>-14.948529</td>\n",
       "      <td>6.070185</td>\n",
       "      <td>-2.462615</td>\n",
       "      <td>1.410619e-02</td>\n",
       "      <td>-26.872798</td>\n",
       "      <td>-3.024260</td>\n",
       "      <td>0.041724</td>\n",
       "      <td>True</td>\n",
       "    </tr>\n",
       "    <tr>\n",
       "      <th>Underweight-Overweight</th>\n",
       "      <td>-6.198347</td>\n",
       "      <td>6.097769</td>\n",
       "      <td>-1.016494</td>\n",
       "      <td>3.098527e-01</td>\n",
       "      <td>-18.176802</td>\n",
       "      <td>5.780108</td>\n",
       "      <td>0.523697</td>\n",
       "      <td>False</td>\n",
       "    </tr>\n",
       "  </tbody>\n",
       "</table>\n",
       "</div>"
      ],
      "text/plain": [
       "                                 coef   std err          t         P>|t|  \\\n",
       "Normal-Morbidly Obese      -19.434884  1.438725 -13.508412  5.369092e-36   \n",
       "Obese-Morbidly Obese        -5.086354  1.058118  -4.806984  1.992906e-06   \n",
       "Overweight-Morbidly Obese  -13.836537  1.206339 -11.469859  2.186669e-27   \n",
       "Underweight-Morbidly Obese -20.034884  6.117911  -3.274791  1.125690e-03   \n",
       "Obese-Normal                14.348529  1.219930  11.761761  1.428333e-28   \n",
       "Overweight-Normal            5.598347  1.350508   4.145365  3.943041e-05   \n",
       "Underweight-Normal          -0.600000  6.147964  -0.097593  9.222917e-01   \n",
       "Overweight-Obese            -8.750182  0.934642  -9.362070  2.141662e-19   \n",
       "Underweight-Obese          -14.948529  6.070185  -2.462615  1.410619e-02   \n",
       "Underweight-Overweight      -6.198347  6.097769  -1.016494  3.098527e-01   \n",
       "\n",
       "                            Conf. Int. Low  Conf. Int. Upp.  pvalue-hs  \\\n",
       "Normal-Morbidly Obese           -22.261114       -16.608654   0.000000   \n",
       "Obese-Morbidly Obese             -7.164920        -3.007789   0.000012   \n",
       "Overweight-Morbidly Obese       -16.206268       -11.466805   0.000000   \n",
       "Underweight-Morbidly Obese      -32.052907        -8.016860   0.004495   \n",
       "Obese-Normal                     11.952099        16.744960   0.000000   \n",
       "Overweight-Normal                 2.945410         8.251284   0.000197   \n",
       "Underweight-Normal              -12.677058        11.477058   0.922292   \n",
       "Overweight-Obese                -10.586192        -6.914172   0.000000   \n",
       "Underweight-Obese               -26.872798        -3.024260   0.041724   \n",
       "Underweight-Overweight          -18.176802         5.780108   0.523697   \n",
       "\n",
       "                            reject-hs  \n",
       "Normal-Morbidly Obese            True  \n",
       "Obese-Morbidly Obese             True  \n",
       "Overweight-Morbidly Obese        True  \n",
       "Underweight-Morbidly Obese       True  \n",
       "Obese-Normal                     True  \n",
       "Overweight-Normal                True  \n",
       "Underweight-Normal              False  \n",
       "Overweight-Obese                 True  \n",
       "Underweight-Obese                True  \n",
       "Underweight-Overweight          False  "
      ]
     },
     "execution_count": 460,
     "metadata": {},
     "output_type": "execute_result"
    }
   ],
   "source": [
    "#Post hoc corrections (Bonferroni)\n",
    "pair_t = mod.t_test_pairwise('BMICategory')\n",
    "pair_t.result_frame"
   ]
  },
  {
   "cell_type": "code",
   "execution_count": 462,
   "id": "d463c792-d4c5-4f54-afa5-f3d6fc241fcf",
   "metadata": {},
   "outputs": [
    {
     "data": {
      "text/html": [
       "<div>\n",
       "<style scoped>\n",
       "    .dataframe tbody tr th:only-of-type {\n",
       "        vertical-align: middle;\n",
       "    }\n",
       "\n",
       "    .dataframe tbody tr th {\n",
       "        vertical-align: top;\n",
       "    }\n",
       "\n",
       "    .dataframe thead th {\n",
       "        text-align: right;\n",
       "    }\n",
       "</style>\n",
       "<table border=\"1\" class=\"dataframe\">\n",
       "  <thead>\n",
       "    <tr style=\"text-align: right;\">\n",
       "      <th></th>\n",
       "      <th>coef</th>\n",
       "      <th>std err</th>\n",
       "      <th>t</th>\n",
       "      <th>P&gt;|t|</th>\n",
       "      <th>Conf. Int. Low</th>\n",
       "      <th>Conf. Int. Upp.</th>\n",
       "      <th>pvalue-hs</th>\n",
       "      <th>reject-hs</th>\n",
       "    </tr>\n",
       "  </thead>\n",
       "  <tbody>\n",
       "    <tr>\n",
       "      <th>Normal-Morbidly Obese</th>\n",
       "      <td>-19.434884</td>\n",
       "      <td>1.438725</td>\n",
       "      <td>-13.508412</td>\n",
       "      <td>5.369092e-36</td>\n",
       "      <td>-22.261114</td>\n",
       "      <td>-16.608654</td>\n",
       "      <td>0.000000</td>\n",
       "      <td>True</td>\n",
       "    </tr>\n",
       "    <tr>\n",
       "      <th>Obese-Morbidly Obese</th>\n",
       "      <td>-5.086354</td>\n",
       "      <td>1.058118</td>\n",
       "      <td>-4.806984</td>\n",
       "      <td>1.992906e-06</td>\n",
       "      <td>-7.164920</td>\n",
       "      <td>-3.007789</td>\n",
       "      <td>0.000012</td>\n",
       "      <td>True</td>\n",
       "    </tr>\n",
       "    <tr>\n",
       "      <th>Overweight-Morbidly Obese</th>\n",
       "      <td>-13.836537</td>\n",
       "      <td>1.206339</td>\n",
       "      <td>-11.469859</td>\n",
       "      <td>2.186669e-27</td>\n",
       "      <td>-16.206268</td>\n",
       "      <td>-11.466805</td>\n",
       "      <td>0.000000</td>\n",
       "      <td>True</td>\n",
       "    </tr>\n",
       "    <tr>\n",
       "      <th>Underweight-Morbidly Obese</th>\n",
       "      <td>-20.034884</td>\n",
       "      <td>6.117911</td>\n",
       "      <td>-3.274791</td>\n",
       "      <td>1.125690e-03</td>\n",
       "      <td>-32.052907</td>\n",
       "      <td>-8.016860</td>\n",
       "      <td>0.004495</td>\n",
       "      <td>True</td>\n",
       "    </tr>\n",
       "    <tr>\n",
       "      <th>Obese-Normal</th>\n",
       "      <td>14.348529</td>\n",
       "      <td>1.219930</td>\n",
       "      <td>11.761761</td>\n",
       "      <td>1.428333e-28</td>\n",
       "      <td>11.952099</td>\n",
       "      <td>16.744960</td>\n",
       "      <td>0.000000</td>\n",
       "      <td>True</td>\n",
       "    </tr>\n",
       "    <tr>\n",
       "      <th>Overweight-Normal</th>\n",
       "      <td>5.598347</td>\n",
       "      <td>1.350508</td>\n",
       "      <td>4.145365</td>\n",
       "      <td>3.943041e-05</td>\n",
       "      <td>2.945410</td>\n",
       "      <td>8.251284</td>\n",
       "      <td>0.000197</td>\n",
       "      <td>True</td>\n",
       "    </tr>\n",
       "    <tr>\n",
       "      <th>Underweight-Normal</th>\n",
       "      <td>-0.600000</td>\n",
       "      <td>6.147964</td>\n",
       "      <td>-0.097593</td>\n",
       "      <td>9.222917e-01</td>\n",
       "      <td>-12.677058</td>\n",
       "      <td>11.477058</td>\n",
       "      <td>0.922292</td>\n",
       "      <td>False</td>\n",
       "    </tr>\n",
       "    <tr>\n",
       "      <th>Overweight-Obese</th>\n",
       "      <td>-8.750182</td>\n",
       "      <td>0.934642</td>\n",
       "      <td>-9.362070</td>\n",
       "      <td>2.141662e-19</td>\n",
       "      <td>-10.586192</td>\n",
       "      <td>-6.914172</td>\n",
       "      <td>0.000000</td>\n",
       "      <td>True</td>\n",
       "    </tr>\n",
       "    <tr>\n",
       "      <th>Underweight-Obese</th>\n",
       "      <td>-14.948529</td>\n",
       "      <td>6.070185</td>\n",
       "      <td>-2.462615</td>\n",
       "      <td>1.410619e-02</td>\n",
       "      <td>-26.872798</td>\n",
       "      <td>-3.024260</td>\n",
       "      <td>0.041724</td>\n",
       "      <td>True</td>\n",
       "    </tr>\n",
       "    <tr>\n",
       "      <th>Underweight-Overweight</th>\n",
       "      <td>-6.198347</td>\n",
       "      <td>6.097769</td>\n",
       "      <td>-1.016494</td>\n",
       "      <td>3.098527e-01</td>\n",
       "      <td>-18.176802</td>\n",
       "      <td>5.780108</td>\n",
       "      <td>0.523697</td>\n",
       "      <td>False</td>\n",
       "    </tr>\n",
       "  </tbody>\n",
       "</table>\n",
       "</div>"
      ],
      "text/plain": [
       "                                 coef   std err          t         P>|t|  \\\n",
       "Normal-Morbidly Obese      -19.434884  1.438725 -13.508412  5.369092e-36   \n",
       "Obese-Morbidly Obese        -5.086354  1.058118  -4.806984  1.992906e-06   \n",
       "Overweight-Morbidly Obese  -13.836537  1.206339 -11.469859  2.186669e-27   \n",
       "Underweight-Morbidly Obese -20.034884  6.117911  -3.274791  1.125690e-03   \n",
       "Obese-Normal                14.348529  1.219930  11.761761  1.428333e-28   \n",
       "Overweight-Normal            5.598347  1.350508   4.145365  3.943041e-05   \n",
       "Underweight-Normal          -0.600000  6.147964  -0.097593  9.222917e-01   \n",
       "Overweight-Obese            -8.750182  0.934642  -9.362070  2.141662e-19   \n",
       "Underweight-Obese          -14.948529  6.070185  -2.462615  1.410619e-02   \n",
       "Underweight-Overweight      -6.198347  6.097769  -1.016494  3.098527e-01   \n",
       "\n",
       "                            Conf. Int. Low  Conf. Int. Upp.  pvalue-hs  \\\n",
       "Normal-Morbidly Obese           -22.261114       -16.608654   0.000000   \n",
       "Obese-Morbidly Obese             -7.164920        -3.007789   0.000012   \n",
       "Overweight-Morbidly Obese       -16.206268       -11.466805   0.000000   \n",
       "Underweight-Morbidly Obese      -32.052907        -8.016860   0.004495   \n",
       "Obese-Normal                     11.952099        16.744960   0.000000   \n",
       "Overweight-Normal                 2.945410         8.251284   0.000197   \n",
       "Underweight-Normal              -12.677058        11.477058   0.922292   \n",
       "Overweight-Obese                -10.586192        -6.914172   0.000000   \n",
       "Underweight-Obese               -26.872798        -3.024260   0.041724   \n",
       "Underweight-Overweight          -18.176802         5.780108   0.523697   \n",
       "\n",
       "                            reject-hs  \n",
       "Normal-Morbidly Obese            True  \n",
       "Obese-Morbidly Obese             True  \n",
       "Overweight-Morbidly Obese        True  \n",
       "Underweight-Morbidly Obese       True  \n",
       "Obese-Normal                     True  \n",
       "Overweight-Normal                True  \n",
       "Underweight-Normal              False  \n",
       "Overweight-Obese                 True  \n",
       "Underweight-Obese                True  \n",
       "Underweight-Overweight          False  "
      ]
     },
     "execution_count": 462,
     "metadata": {},
     "output_type": "execute_result"
    }
   ],
   "source": [
    "#Post hoc tests: tukey hsd\n",
    "#Tukey hsd with bonferroni's correction\n",
    "pair_t = mod.t_test_pairwise('BMICategory')\n",
    "pair_t.result_frame"
   ]
  },
  {
   "cell_type": "code",
   "execution_count": 464,
   "id": "1d75796f-f43d-42fb-9e9d-061c45aaac39",
   "metadata": {},
   "outputs": [
    {
     "name": "stdout",
     "output_type": "stream",
     "text": [
      "        Source            SS   DF           MS          F         p-unc  \\\n",
      "0  BMICategory  20062.451744    4  5015.612936  68.560167  7.413373e-47   \n",
      "1       Within  39211.814430  536    73.156370        NaN           NaN   \n",
      "\n",
      "        np2  \n",
      "0  0.338468  \n",
      "1       NaN  \n"
     ]
    }
   ],
   "source": [
    "aov = pg.anova(data=BMI_vs_SkinThickness, dv='value',between='BMICategory',detailed=True)\n",
    "print(aov)"
   ]
  },
  {
   "cell_type": "code",
   "execution_count": 465,
   "id": "02093d6f-9040-4ee2-9773-bfe274f35ed7",
   "metadata": {},
   "outputs": [
    {
     "name": "stdout",
     "output_type": "stream",
     "text": [
      "                A            B    mean(A)    mean(B)       diff        se  \\\n",
      "0  Morbidly Obese       Normal  37.034884  17.600000  19.434884  1.438725   \n",
      "1  Morbidly Obese        Obese  37.034884  31.948529   5.086354  1.058118   \n",
      "2  Morbidly Obese   Overweight  37.034884  23.198347  13.836537  1.206339   \n",
      "3  Morbidly Obese  Underweight  37.034884  17.000000  20.034884  6.117911   \n",
      "4          Normal        Obese  17.600000  31.948529 -14.348529  1.219930   \n",
      "5          Normal   Overweight  17.600000  23.198347  -5.598347  1.350508   \n",
      "6          Normal  Underweight  17.600000  17.000000   0.600000  6.147964   \n",
      "7           Obese   Overweight  31.948529  23.198347   8.750182  0.934642   \n",
      "8           Obese  Underweight  31.948529  17.000000  14.948529  6.070185   \n",
      "9      Overweight  Underweight  23.198347  17.000000   6.198347  6.097769   \n",
      "\n",
      "           T       p-tukey     cohen  \n",
      "0  13.508412  8.271162e-14  2.272249  \n",
      "1   4.806984  1.963678e-05  0.594676  \n",
      "2  11.469859  8.271162e-14  1.617712  \n",
      "3   3.274791  9.881966e-03  2.342398  \n",
      "4 -11.761761  8.271162e-14 -1.677573  \n",
      "5  -4.145365  3.787125e-04 -0.654536  \n",
      "6   0.097593  9.999795e-01  0.070150  \n",
      "7   9.362070  8.271162e-14  1.023036  \n",
      "8   2.462615  1.008262e-01  1.747722  \n",
      "9   1.016494  8.477736e-01  0.724686  \n"
     ]
    }
   ],
   "source": [
    "#Post hoc test with pingouin\n",
    "#cohen = effect size\n",
    "pt = pg.pairwise_tukey(dv='value',between='BMICategory',effsize='cohen',data=BMI_vs_SkinThickness)\n",
    "print(pt)"
   ]
  },
  {
   "cell_type": "code",
   "execution_count": null,
   "id": "4677e059-dcda-400d-b8f3-6bfb35b74df5",
   "metadata": {},
   "outputs": [],
   "source": []
  }
 ],
 "metadata": {
  "kernelspec": {
   "display_name": "Python 3 (ipykernel)",
   "language": "python",
   "name": "python3"
  },
  "language_info": {
   "codemirror_mode": {
    "name": "ipython",
    "version": 3
   },
   "file_extension": ".py",
   "mimetype": "text/x-python",
   "name": "python",
   "nbconvert_exporter": "python",
   "pygments_lexer": "ipython3",
   "version": "3.9.7"
  }
 },
 "nbformat": 4,
 "nbformat_minor": 5
}
