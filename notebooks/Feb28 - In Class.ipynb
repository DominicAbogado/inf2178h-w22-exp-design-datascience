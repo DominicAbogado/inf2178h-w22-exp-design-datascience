{
 "cells": [
  {
   "cell_type": "markdown",
   "id": "83950a51",
   "metadata": {},
   "source": [
    "### What we have learned\n",
    "\n",
    "* t-Test\n",
    "* ANOVA\n",
    "* Multiple Linear Regression\n",
    "\n",
    "* The anova is all of this except where x1... xn is categorical variable\n",
    "* Modern machine learning is built on this set of equations\n",
    "\n",
    "## This set of questions is called GLM\n",
    "* GLM stands for General & Generalized (Linear models)\n",
    "\n",
    "### We will focus on General Linear models\n",
    "* Straight lines\n",
    "* Straight lines approximate realty enough to just be good enough. We spend so much time on drawing straight lines of that form\n",
    "* As organizations do ML more, we are about interpretation\n",
    "* When you start to draw non-linear relationships, you cant actually explain why this predicts that. Why does x1 predict y, you cannot answer with Deep Learning\n",
    "\n",
    "### Explanation and interpretation\n",
    "* Asking why and how is extremely important\n",
    "* Plenty of social science theories that explain x,y,z and using data science to make it make sense\n",
    "\n",
    "### Defining Ancova\n",
    "* The simplist question is \n",
    "* y = B0 + B1x1 + B2x2... Bnxn\n",
    "* introducing mixed variable types. Categorical\n",
    "* If x is a predictor of y, why is there an s shaped curve\n",
    "* Building a linear model instead \n",
    "* y = 0.5 +0.3x1 + 2.43x2 + e\n",
    "* Everything else is constant but a new x1 impacts the model by 0.3 times x1\n",
    "* This is an approximation. It may only fit it 80% of the time but you can have perfect explanation\n",
    "* You need to provide mean, error, and confidence intervals \n",
    "\n",
    "### Reporting Model Results\n",
    "* Anytime you are reporting model results\n",
    "* You do not copy and paste raw statistical outputs\n",
    "* Build your own table \n",
    "* Parameter, "
   ]
  },
  {
   "cell_type": "markdown",
   "id": "29bf4ed0",
   "metadata": {},
   "source": [
    "## Midterm Submission March 27\n",
    "### Expectations\n",
    "* Data Cleaning, computationally clean it\n",
    "* EDA\n",
    "* * Data Analysis\n",
    "* * Visualizations\n",
    "* * Initial Testing of research questions\n",
    "* Inferrential statistics\n",
    "* * Whatever you have learned in multiple linear regression in 1344\n"
   ]
  },
  {
   "cell_type": "markdown",
   "id": "906476d5",
   "metadata": {},
   "source": [
    "## Categorical Data as predictors"
   ]
  },
  {
   "cell_type": "markdown",
   "id": "ab4626f5",
   "metadata": {},
   "source": [
    "y = Bo + B1x1 + B2x2 + B3x1x2 +e"
   ]
  },
  {
   "cell_type": "markdown",
   "id": "4144badc",
   "metadata": {},
   "source": [
    "#### This is adjusted mean\n",
    "\n",
    "y = Bo + B1x1 + B2x2 + B3(x1 - x2) +e\n",
    "\n"
   ]
  },
  {
   "cell_type": "markdown",
   "id": "31645d5a",
   "metadata": {},
   "source": [
    "### Anova and Anvoca\n",
    "* Ancova has a categorical variable and a continuous variable\n",
    "* What we are interested in knowing is \"What is the effect of x1 (categorical variable) on y if we adjust for the bias of x2 (continuous variable)\"\n",
    "* Anova is the effect of two categorial variable\n",
    "* For ANCOVA, if we adjust for the bias of x2 is we adjust for the continuous variable"
   ]
  }
 ],
 "metadata": {
  "kernelspec": {
   "display_name": "Python 3 (ipykernel)",
   "language": "python",
   "name": "python3"
  },
  "language_info": {
   "codemirror_mode": {
    "name": "ipython",
    "version": 3
   },
   "file_extension": ".py",
   "mimetype": "text/x-python",
   "name": "python",
   "nbconvert_exporter": "python",
   "pygments_lexer": "ipython3",
   "version": "3.9.7"
  }
 },
 "nbformat": 4,
 "nbformat_minor": 5
}
